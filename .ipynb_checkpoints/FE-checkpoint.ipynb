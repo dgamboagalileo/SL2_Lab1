{
 "cells": [
  {
   "cell_type": "code",
   "execution_count": 1,
   "id": "e364ef86-fe6b-4eb1-bc84-8114b32dc67f",
   "metadata": {},
   "outputs": [],
   "source": [
    "import pandas as pd\n",
    "import numpy as np\n",
    "import matplotlib.pyplot as plt\n",
    "import statistics as stdev\n",
    "import seaborn as sns\n",
    "from sklearn.linear_model import LinearRegression\n",
    "from sklearn import linear_model\n",
    "import scipy.stats as stats\n",
    "from sklearn.preprocessing import StandardScaler"
   ]
  },
  {
   "cell_type": "markdown",
   "id": "ca0d5efa-88a1-4733-9a48-12d11d3392d6",
   "metadata": {},
   "source": [
    "# Ingenieria de Caracteristicas Train"
   ]
  },
  {
   "cell_type": "code",
   "execution_count": 395,
   "id": "0875a789-8fb7-498f-a607-cbf0f391a7bb",
   "metadata": {},
   "outputs": [
    {
     "data": {
      "text/html": [
       "<div>\n",
       "<style scoped>\n",
       "    .dataframe tbody tr th:only-of-type {\n",
       "        vertical-align: middle;\n",
       "    }\n",
       "\n",
       "    .dataframe tbody tr th {\n",
       "        vertical-align: top;\n",
       "    }\n",
       "\n",
       "    .dataframe thead th {\n",
       "        text-align: right;\n",
       "    }\n",
       "</style>\n",
       "<table border=\"1\" class=\"dataframe\">\n",
       "  <thead>\n",
       "    <tr style=\"text-align: right;\">\n",
       "      <th></th>\n",
       "      <th>Survived</th>\n",
       "      <th>Pclass</th>\n",
       "      <th>Name</th>\n",
       "      <th>Sex</th>\n",
       "      <th>Age</th>\n",
       "      <th>SibSp</th>\n",
       "      <th>Parch</th>\n",
       "      <th>Ticket</th>\n",
       "      <th>Fare</th>\n",
       "      <th>Cabin</th>\n",
       "      <th>Embarked</th>\n",
       "    </tr>\n",
       "  </thead>\n",
       "  <tbody>\n",
       "    <tr>\n",
       "      <th>0</th>\n",
       "      <td>0</td>\n",
       "      <td>3</td>\n",
       "      <td>Braund, Mr. Owen Harris</td>\n",
       "      <td>male</td>\n",
       "      <td>22.0</td>\n",
       "      <td>1</td>\n",
       "      <td>0</td>\n",
       "      <td>A/5 21171</td>\n",
       "      <td>7.2500</td>\n",
       "      <td>NaN</td>\n",
       "      <td>S</td>\n",
       "    </tr>\n",
       "    <tr>\n",
       "      <th>1</th>\n",
       "      <td>1</td>\n",
       "      <td>1</td>\n",
       "      <td>Cumings, Mrs. John Bradley (Florence Briggs Th...</td>\n",
       "      <td>female</td>\n",
       "      <td>38.0</td>\n",
       "      <td>1</td>\n",
       "      <td>0</td>\n",
       "      <td>PC 17599</td>\n",
       "      <td>71.2833</td>\n",
       "      <td>C85</td>\n",
       "      <td>C</td>\n",
       "    </tr>\n",
       "    <tr>\n",
       "      <th>2</th>\n",
       "      <td>1</td>\n",
       "      <td>3</td>\n",
       "      <td>Heikkinen, Miss. Laina</td>\n",
       "      <td>female</td>\n",
       "      <td>26.0</td>\n",
       "      <td>0</td>\n",
       "      <td>0</td>\n",
       "      <td>STON/O2. 3101282</td>\n",
       "      <td>7.9250</td>\n",
       "      <td>NaN</td>\n",
       "      <td>S</td>\n",
       "    </tr>\n",
       "    <tr>\n",
       "      <th>3</th>\n",
       "      <td>1</td>\n",
       "      <td>1</td>\n",
       "      <td>Futrelle, Mrs. Jacques Heath (Lily May Peel)</td>\n",
       "      <td>female</td>\n",
       "      <td>35.0</td>\n",
       "      <td>1</td>\n",
       "      <td>0</td>\n",
       "      <td>113803</td>\n",
       "      <td>53.1000</td>\n",
       "      <td>C123</td>\n",
       "      <td>S</td>\n",
       "    </tr>\n",
       "    <tr>\n",
       "      <th>4</th>\n",
       "      <td>0</td>\n",
       "      <td>3</td>\n",
       "      <td>Allen, Mr. William Henry</td>\n",
       "      <td>male</td>\n",
       "      <td>35.0</td>\n",
       "      <td>0</td>\n",
       "      <td>0</td>\n",
       "      <td>373450</td>\n",
       "      <td>8.0500</td>\n",
       "      <td>NaN</td>\n",
       "      <td>S</td>\n",
       "    </tr>\n",
       "  </tbody>\n",
       "</table>\n",
       "</div>"
      ],
      "text/plain": [
       "   Survived  Pclass                                               Name  \\\n",
       "0         0       3                            Braund, Mr. Owen Harris   \n",
       "1         1       1  Cumings, Mrs. John Bradley (Florence Briggs Th...   \n",
       "2         1       3                             Heikkinen, Miss. Laina   \n",
       "3         1       1       Futrelle, Mrs. Jacques Heath (Lily May Peel)   \n",
       "4         0       3                           Allen, Mr. William Henry   \n",
       "\n",
       "      Sex   Age  SibSp  Parch            Ticket     Fare Cabin Embarked  \n",
       "0    male  22.0      1      0         A/5 21171   7.2500   NaN        S  \n",
       "1  female  38.0      1      0          PC 17599  71.2833   C85        C  \n",
       "2  female  26.0      0      0  STON/O2. 3101282   7.9250   NaN        S  \n",
       "3  female  35.0      1      0            113803  53.1000  C123        S  \n",
       "4    male  35.0      0      0            373450   8.0500   NaN        S  "
      ]
     },
     "execution_count": 395,
     "metadata": {},
     "output_type": "execute_result"
    }
   ],
   "source": [
    "datasetTrain = pd.read_csv('train.csv')\n",
    "datasetTrain=datasetTrain.drop(['PassengerId'], axis=1)\n",
    "datasetTrain.head()"
   ]
  },
  {
   "cell_type": "markdown",
   "id": "4c1ecdf8-a6ff-4154-abf2-d90ccda6367f",
   "metadata": {},
   "source": [
    "## Verificacion de NaN"
   ]
  },
  {
   "cell_type": "code",
   "execution_count": 396,
   "id": "ba666dff-2788-479d-928f-66a452a57c3c",
   "metadata": {},
   "outputs": [],
   "source": [
    "def getNanColNames(df):\n",
    "    colnames=df.columns\n",
    "    cols_con_na=[]\n",
    "    for col in colnames:\n",
    "        if(df[col].isnull().sum()>0):\n",
    "            cols_con_na.append(col)\n",
    "    return cols_con_na"
   ]
  },
  {
   "cell_type": "code",
   "execution_count": 397,
   "id": "cc25f7e6-d4ab-4ad1-9122-ee7b75c54b5d",
   "metadata": {},
   "outputs": [
    {
     "data": {
      "text/plain": [
       "['Age', 'Cabin', 'Embarked']"
      ]
     },
     "execution_count": 397,
     "metadata": {},
     "output_type": "execute_result"
    }
   ],
   "source": [
    "cols_con_nan=getNanColNames(datasetTrain)\n",
    "cols_con_nan"
   ]
  },
  {
   "cell_type": "code",
   "execution_count": 398,
   "id": "5b64fab4-9d2d-455e-a883-05907872f4d3",
   "metadata": {},
   "outputs": [
    {
     "data": {
      "text/plain": [
       "Age         float64\n",
       "Cabin        object\n",
       "Embarked     object\n",
       "dtype: object"
      ]
     },
     "execution_count": 398,
     "metadata": {},
     "output_type": "execute_result"
    }
   ],
   "source": [
    "datasetTrain[cols_con_nan].dtypes"
   ]
  },
  {
   "cell_type": "code",
   "execution_count": 399,
   "id": "f40d955d-07c0-4f3f-8e37-9af25f8919cd",
   "metadata": {},
   "outputs": [
    {
     "data": {
      "text/plain": [
       "Age         0.198653\n",
       "Cabin       0.771044\n",
       "Embarked    0.002245\n",
       "dtype: float64"
      ]
     },
     "execution_count": 399,
     "metadata": {},
     "output_type": "execute_result"
    }
   ],
   "source": [
    "datasetTrain[cols_con_nan].isnull().mean()"
   ]
  },
  {
   "cell_type": "code",
   "execution_count": 400,
   "id": "cc711388-1136-45f5-a59d-d35ed30253f7",
   "metadata": {},
   "outputs": [],
   "source": [
    "datasetTrain=datasetTrain.drop(['Cabin'], axis=1)"
   ]
  },
  {
   "cell_type": "code",
   "execution_count": 401,
   "id": "21db0259-1dd4-454f-ab47-0fc0605321e5",
   "metadata": {},
   "outputs": [
    {
     "data": {
      "text/html": [
       "<div>\n",
       "<style scoped>\n",
       "    .dataframe tbody tr th:only-of-type {\n",
       "        vertical-align: middle;\n",
       "    }\n",
       "\n",
       "    .dataframe tbody tr th {\n",
       "        vertical-align: top;\n",
       "    }\n",
       "\n",
       "    .dataframe thead th {\n",
       "        text-align: right;\n",
       "    }\n",
       "</style>\n",
       "<table border=\"1\" class=\"dataframe\">\n",
       "  <thead>\n",
       "    <tr style=\"text-align: right;\">\n",
       "      <th></th>\n",
       "      <th>Survived</th>\n",
       "      <th>Pclass</th>\n",
       "      <th>Name</th>\n",
       "      <th>Sex</th>\n",
       "      <th>Age</th>\n",
       "      <th>SibSp</th>\n",
       "      <th>Parch</th>\n",
       "      <th>Ticket</th>\n",
       "      <th>Fare</th>\n",
       "      <th>Embarked</th>\n",
       "    </tr>\n",
       "  </thead>\n",
       "  <tbody>\n",
       "    <tr>\n",
       "      <th>0</th>\n",
       "      <td>0</td>\n",
       "      <td>3</td>\n",
       "      <td>Braund, Mr. Owen Harris</td>\n",
       "      <td>male</td>\n",
       "      <td>22.0</td>\n",
       "      <td>1</td>\n",
       "      <td>0</td>\n",
       "      <td>A/5 21171</td>\n",
       "      <td>7.2500</td>\n",
       "      <td>S</td>\n",
       "    </tr>\n",
       "    <tr>\n",
       "      <th>1</th>\n",
       "      <td>1</td>\n",
       "      <td>1</td>\n",
       "      <td>Cumings, Mrs. John Bradley (Florence Briggs Th...</td>\n",
       "      <td>female</td>\n",
       "      <td>38.0</td>\n",
       "      <td>1</td>\n",
       "      <td>0</td>\n",
       "      <td>PC 17599</td>\n",
       "      <td>71.2833</td>\n",
       "      <td>C</td>\n",
       "    </tr>\n",
       "    <tr>\n",
       "      <th>2</th>\n",
       "      <td>1</td>\n",
       "      <td>3</td>\n",
       "      <td>Heikkinen, Miss. Laina</td>\n",
       "      <td>female</td>\n",
       "      <td>26.0</td>\n",
       "      <td>0</td>\n",
       "      <td>0</td>\n",
       "      <td>STON/O2. 3101282</td>\n",
       "      <td>7.9250</td>\n",
       "      <td>S</td>\n",
       "    </tr>\n",
       "    <tr>\n",
       "      <th>3</th>\n",
       "      <td>1</td>\n",
       "      <td>1</td>\n",
       "      <td>Futrelle, Mrs. Jacques Heath (Lily May Peel)</td>\n",
       "      <td>female</td>\n",
       "      <td>35.0</td>\n",
       "      <td>1</td>\n",
       "      <td>0</td>\n",
       "      <td>113803</td>\n",
       "      <td>53.1000</td>\n",
       "      <td>S</td>\n",
       "    </tr>\n",
       "    <tr>\n",
       "      <th>4</th>\n",
       "      <td>0</td>\n",
       "      <td>3</td>\n",
       "      <td>Allen, Mr. William Henry</td>\n",
       "      <td>male</td>\n",
       "      <td>35.0</td>\n",
       "      <td>0</td>\n",
       "      <td>0</td>\n",
       "      <td>373450</td>\n",
       "      <td>8.0500</td>\n",
       "      <td>S</td>\n",
       "    </tr>\n",
       "  </tbody>\n",
       "</table>\n",
       "</div>"
      ],
      "text/plain": [
       "   Survived  Pclass                                               Name  \\\n",
       "0         0       3                            Braund, Mr. Owen Harris   \n",
       "1         1       1  Cumings, Mrs. John Bradley (Florence Briggs Th...   \n",
       "2         1       3                             Heikkinen, Miss. Laina   \n",
       "3         1       1       Futrelle, Mrs. Jacques Heath (Lily May Peel)   \n",
       "4         0       3                           Allen, Mr. William Henry   \n",
       "\n",
       "      Sex   Age  SibSp  Parch            Ticket     Fare Embarked  \n",
       "0    male  22.0      1      0         A/5 21171   7.2500        S  \n",
       "1  female  38.0      1      0          PC 17599  71.2833        C  \n",
       "2  female  26.0      0      0  STON/O2. 3101282   7.9250        S  \n",
       "3  female  35.0      1      0            113803  53.1000        S  \n",
       "4    male  35.0      0      0            373450   8.0500        S  "
      ]
     },
     "execution_count": 401,
     "metadata": {},
     "output_type": "execute_result"
    }
   ],
   "source": [
    "datasetTrain.head()"
   ]
  },
  {
   "cell_type": "markdown",
   "id": "c45c013b-ac2a-4545-9092-ebe5aa43a260",
   "metadata": {},
   "source": [
    "## Imputación de medias y medianas (Age)"
   ]
  },
  {
   "cell_type": "code",
   "execution_count": 402,
   "id": "9d5ac9ac-ef2e-4881-b685-7fa1aea39761",
   "metadata": {},
   "outputs": [
    {
     "data": {
      "text/plain": [
       "<AxesSubplot:ylabel='Density'>"
      ]
     },
     "execution_count": 402,
     "metadata": {},
     "output_type": "execute_result"
    },
    {
     "data": {
      "image/png": "[encoded data removed]",
      "text/plain": [
       "<Figure size 432x288 with 1 Axes>"
      ]
     },
     "metadata": {
      "needs_background": "light"
     },
     "output_type": "display_data"
    }
   ],
   "source": [
    "datasetTrain['Age'].plot.density(color=\"red\")"
   ]
  },
  {
   "cell_type": "code",
   "execution_count": 403,
   "id": "1c1303d1-5239-4308-9020-4b1398f5290f",
   "metadata": {},
   "outputs": [
    {
     "data": {
      "text/plain": [
       "(30.0, 28.0)"
      ]
     },
     "execution_count": 403,
     "metadata": {},
     "output_type": "execute_result"
    }
   ],
   "source": [
    "meanValue=np.round(datasetTrain['Age'].mean(),0)\n",
    "medianValue=np.round(datasetTrain['Age'].median(), 0)\n",
    "meanValue, medianValue"
   ]
  },
  {
   "cell_type": "code",
   "execution_count": 404,
   "id": "4f671e7e-3243-4688-9449-47073a237649",
   "metadata": {},
   "outputs": [],
   "source": [
    "datasetTrain_Age_meanImpo=datasetTrain['Age'].fillna(meanValue)\n",
    "datasetTrain_Age_medianImpo=datasetTrain['Age'].fillna(medianValue)"
   ]
  },
  {
   "cell_type": "code",
   "execution_count": 405,
   "id": "61435b8e-ffa9-4150-b850-5caedb9248e0",
   "metadata": {},
   "outputs": [
    {
     "data": {
      "text/plain": [
       "<AxesSubplot:ylabel='Density'>"
      ]
     },
     "execution_count": 405,
     "metadata": {},
     "output_type": "execute_result"
    },
    {
     "data": {
      "image/png": "[encoded data removed]",
      "text/plain": [
       "<Figure size 432x288 with 1 Axes>"
      ]
     },
     "metadata": {
      "needs_background": "light"
     },
     "output_type": "display_data"
    }
   ],
   "source": [
    "datasetTrain['Age'].plot.density(color=\"red\")\n",
    "datasetTrain_Age_meanImpo.plot.density(color=\"green\")\n",
    "datasetTrain_Age_medianImpo.plot.density(color=\"blue\")"
   ]
  },
  {
   "cell_type": "code",
   "execution_count": 406,
   "id": "6a624a9a-5396-4161-b9e3-238a58ec5fd6",
   "metadata": {},
   "outputs": [],
   "source": [
    "datasetTrain['Age']=datasetTrain['Age'].fillna(medianValue)"
   ]
  },
  {
   "cell_type": "markdown",
   "id": "f1519943-f084-4da4-875b-ad1aef745c75",
   "metadata": {},
   "source": [
    "## Imputación de categorias faltantes"
   ]
  },
  {
   "cell_type": "code",
   "execution_count": 407,
   "id": "5e3d5405-b0cb-4419-856a-19befa405f56",
   "metadata": {},
   "outputs": [
    {
     "data": {
      "text/html": [
       "<div>\n",
       "<style scoped>\n",
       "    .dataframe tbody tr th:only-of-type {\n",
       "        vertical-align: middle;\n",
       "    }\n",
       "\n",
       "    .dataframe tbody tr th {\n",
       "        vertical-align: top;\n",
       "    }\n",
       "\n",
       "    .dataframe thead th {\n",
       "        text-align: right;\n",
       "    }\n",
       "</style>\n",
       "<table border=\"1\" class=\"dataframe\">\n",
       "  <thead>\n",
       "    <tr style=\"text-align: right;\">\n",
       "      <th></th>\n",
       "      <th>Embarked</th>\n",
       "      <th>Survived</th>\n",
       "    </tr>\n",
       "  </thead>\n",
       "  <tbody>\n",
       "    <tr>\n",
       "      <th>0</th>\n",
       "      <td>S</td>\n",
       "      <td>0</td>\n",
       "    </tr>\n",
       "    <tr>\n",
       "      <th>1</th>\n",
       "      <td>C</td>\n",
       "      <td>1</td>\n",
       "    </tr>\n",
       "    <tr>\n",
       "      <th>2</th>\n",
       "      <td>S</td>\n",
       "      <td>1</td>\n",
       "    </tr>\n",
       "    <tr>\n",
       "      <th>3</th>\n",
       "      <td>S</td>\n",
       "      <td>1</td>\n",
       "    </tr>\n",
       "    <tr>\n",
       "      <th>4</th>\n",
       "      <td>S</td>\n",
       "      <td>0</td>\n",
       "    </tr>\n",
       "  </tbody>\n",
       "</table>\n",
       "</div>"
      ],
      "text/plain": [
       "  Embarked  Survived\n",
       "0        S         0\n",
       "1        C         1\n",
       "2        S         1\n",
       "3        S         1\n",
       "4        S         0"
      ]
     },
     "execution_count": 407,
     "metadata": {},
     "output_type": "execute_result"
    }
   ],
   "source": [
    "dataset_cat_missing=datasetTrain[['Embarked', 'Survived']]\n",
    "dataset_cat_missing.head()"
   ]
  },
  {
   "cell_type": "code",
   "execution_count": 408,
   "id": "65c6ce33-ea77-4fbc-921a-4dd571d2b6b5",
   "metadata": {},
   "outputs": [
    {
     "data": {
      "text/plain": [
       "Embarked    0.002245\n",
       "Survived    0.000000\n",
       "dtype: float64"
      ]
     },
     "execution_count": 408,
     "metadata": {},
     "output_type": "execute_result"
    }
   ],
   "source": [
    "dataset_cat_missing.isnull().mean()"
   ]
  },
  {
   "cell_type": "code",
   "execution_count": 409,
   "id": "a83131cf-6c42-4b24-9280-0cbf4288ba56",
   "metadata": {},
   "outputs": [
    {
     "data": {
      "text/plain": [
       "S    644\n",
       "C    168\n",
       "Q     77\n",
       "Name: Embarked, dtype: int64"
      ]
     },
     "execution_count": 409,
     "metadata": {},
     "output_type": "execute_result"
    }
   ],
   "source": [
    "dataset_cat_missing['Embarked'].value_counts()"
   ]
  },
  {
   "cell_type": "code",
   "execution_count": 410,
   "id": "e679757a-3860-4262-985a-8498616b0060",
   "metadata": {},
   "outputs": [
    {
     "data": {
      "image/png": "[encoded data removed]",
      "text/plain": [
       "<Figure size 432x288 with 1 Axes>"
      ]
     },
     "metadata": {
      "needs_background": "light"
     },
     "output_type": "display_data"
    }
   ],
   "source": [
    "dataset_cat_missing['Embarked'].value_counts().sort_values(ascending=False).plot.bar()\n",
    "plt.ylabel(\"Cantidad\")\n",
    "plt.ylabel(\"Embarked\")\n",
    "plt.show()"
   ]
  },
  {
   "cell_type": "code",
   "execution_count": 411,
   "id": "64959a1c-3efc-40c7-bd2a-6c99d756c046",
   "metadata": {},
   "outputs": [
    {
     "data": {
      "image/png": "[encoded data removed]",
      "text/plain": [
       "<Figure size 432x288 with 1 Axes>"
      ]
     },
     "metadata": {
      "needs_background": "light"
     },
     "output_type": "display_data"
    }
   ],
   "source": [
    "fig=plt.figure()\n",
    "ax=fig.add_subplot(111)\n",
    "#dataset_cat_missing[dataset_cat_missing['Embarked'].isnull()]['Survived'].plot(kind=\"kde\",color=\"red\",label=\"Missings\")\n",
    "dataset_cat_missing[dataset_cat_missing['Embarked']=='S']['Survived'].plot(kind=\"kde\",color=\"blue\",label=\"S\")\n",
    "dataset_cat_missing[dataset_cat_missing['Embarked']=='C']['Survived'].plot(kind=\"kde\",color=\"green\",label=\"C\")\n",
    "dataset_cat_missing[dataset_cat_missing['Embarked']=='Q']['Survived'].plot(kind=\"kde\",color=\"skyblue\",label=\"Q\")\n",
    "ax.legend()\n",
    "plt.show()"
   ]
  },
  {
   "cell_type": "markdown",
   "id": "3391a527-0151-4a54-9dd4-d4eb75d4dc80",
   "metadata": {},
   "source": [
    "#### Se eliminan los registros nulos de la columna Embarked ya que representan el 0.2%"
   ]
  },
  {
   "cell_type": "code",
   "execution_count": 412,
   "id": "caa7da16-d912-4446-b2ac-6880ddbd0fc9",
   "metadata": {},
   "outputs": [],
   "source": [
    "datasetTrain=datasetTrain.dropna()"
   ]
  },
  {
   "cell_type": "markdown",
   "id": "63f3bb78-1c1f-425e-b850-ef42f967def4",
   "metadata": {},
   "source": [
    "## Codificación de variables categoricas"
   ]
  },
  {
   "cell_type": "code",
   "execution_count": 413,
   "id": "fa77ce5f-61d5-47dd-9ae5-f16506938b32",
   "metadata": {},
   "outputs": [],
   "source": [
    "datasetTrain=datasetTrain.drop(['Name'], axis=1)\n",
    "datasetTrain=datasetTrain.drop(['Ticket'], axis=1)"
   ]
  },
  {
   "cell_type": "code",
   "execution_count": 414,
   "id": "5deb8217-3924-40f8-9b22-942e1214157f",
   "metadata": {},
   "outputs": [],
   "source": [
    "def getCategoryVars(df):\n",
    "    colnames=df.columns\n",
    "    cat_cols=[]\n",
    "    for col in colnames:\n",
    "        if(df[col].dtype=='object'):\n",
    "            cat_cols.append(col)\n",
    "    return cat_cols"
   ]
  },
  {
   "cell_type": "code",
   "execution_count": 415,
   "id": "1196d66e-c191-4865-9e0e-de2f778a5294",
   "metadata": {},
   "outputs": [
    {
     "data": {
      "text/plain": [
       "['Sex', 'Embarked']"
      ]
     },
     "execution_count": 415,
     "metadata": {},
     "output_type": "execute_result"
    }
   ],
   "source": [
    "cat_cols=getCategoryVars(datasetTrain)\n",
    "cat_cols"
   ]
  },
  {
   "cell_type": "code",
   "execution_count": 416,
   "id": "c7d03c43-13bf-4cad-92a5-81c552c7ca18",
   "metadata": {},
   "outputs": [],
   "source": [
    "cat_cols.append('Survived')"
   ]
  },
  {
   "cell_type": "code",
   "execution_count": 417,
   "id": "dac17632-44a8-4f9f-8a76-b1446b9c089e",
   "metadata": {},
   "outputs": [],
   "source": [
    "dataset_categorics=datasetTrain[cat_cols]"
   ]
  },
  {
   "cell_type": "markdown",
   "id": "89bb73d3-94af-419b-9d0d-aa676348ff4c",
   "metadata": {},
   "source": [
    "### Reemplazando la columna Sex por 0 y 1"
   ]
  },
  {
   "cell_type": "code",
   "execution_count": 418,
   "id": "9d9ec582-0729-46aa-8c44-f1251d0f87a4",
   "metadata": {},
   "outputs": [
    {
     "data": {
      "text/plain": [
       "male      577\n",
       "female    312\n",
       "Name: Sex, dtype: int64"
      ]
     },
     "execution_count": 418,
     "metadata": {},
     "output_type": "execute_result"
    }
   ],
   "source": [
    "dataset_categorics['Sex'].value_counts()"
   ]
  },
  {
   "cell_type": "code",
   "execution_count": 419,
   "id": "4939fc39-f95f-4315-bab3-6deed1c12958",
   "metadata": {},
   "outputs": [
    {
     "data": {
      "text/html": [
       "<div>\n",
       "<style scoped>\n",
       "    .dataframe tbody tr th:only-of-type {\n",
       "        vertical-align: middle;\n",
       "    }\n",
       "\n",
       "    .dataframe tbody tr th {\n",
       "        vertical-align: top;\n",
       "    }\n",
       "\n",
       "    .dataframe thead th {\n",
       "        text-align: right;\n",
       "    }\n",
       "</style>\n",
       "<table border=\"1\" class=\"dataframe\">\n",
       "  <thead>\n",
       "    <tr style=\"text-align: right;\">\n",
       "      <th></th>\n",
       "      <th>Survived</th>\n",
       "      <th>Pclass</th>\n",
       "      <th>Sex</th>\n",
       "      <th>Age</th>\n",
       "      <th>SibSp</th>\n",
       "      <th>Parch</th>\n",
       "      <th>Fare</th>\n",
       "      <th>Embarked</th>\n",
       "    </tr>\n",
       "  </thead>\n",
       "  <tbody>\n",
       "    <tr>\n",
       "      <th>0</th>\n",
       "      <td>0</td>\n",
       "      <td>3</td>\n",
       "      <td>1</td>\n",
       "      <td>22.0</td>\n",
       "      <td>1</td>\n",
       "      <td>0</td>\n",
       "      <td>7.2500</td>\n",
       "      <td>S</td>\n",
       "    </tr>\n",
       "    <tr>\n",
       "      <th>1</th>\n",
       "      <td>1</td>\n",
       "      <td>1</td>\n",
       "      <td>0</td>\n",
       "      <td>38.0</td>\n",
       "      <td>1</td>\n",
       "      <td>0</td>\n",
       "      <td>71.2833</td>\n",
       "      <td>C</td>\n",
       "    </tr>\n",
       "    <tr>\n",
       "      <th>2</th>\n",
       "      <td>1</td>\n",
       "      <td>3</td>\n",
       "      <td>0</td>\n",
       "      <td>26.0</td>\n",
       "      <td>0</td>\n",
       "      <td>0</td>\n",
       "      <td>7.9250</td>\n",
       "      <td>S</td>\n",
       "    </tr>\n",
       "    <tr>\n",
       "      <th>3</th>\n",
       "      <td>1</td>\n",
       "      <td>1</td>\n",
       "      <td>0</td>\n",
       "      <td>35.0</td>\n",
       "      <td>1</td>\n",
       "      <td>0</td>\n",
       "      <td>53.1000</td>\n",
       "      <td>S</td>\n",
       "    </tr>\n",
       "    <tr>\n",
       "      <th>4</th>\n",
       "      <td>0</td>\n",
       "      <td>3</td>\n",
       "      <td>1</td>\n",
       "      <td>35.0</td>\n",
       "      <td>0</td>\n",
       "      <td>0</td>\n",
       "      <td>8.0500</td>\n",
       "      <td>S</td>\n",
       "    </tr>\n",
       "  </tbody>\n",
       "</table>\n",
       "</div>"
      ],
      "text/plain": [
       "   Survived  Pclass Sex   Age  SibSp  Parch     Fare Embarked\n",
       "0         0       3   1  22.0      1      0   7.2500        S\n",
       "1         1       1   0  38.0      1      0  71.2833        C\n",
       "2         1       3   0  26.0      0      0   7.9250        S\n",
       "3         1       1   0  35.0      1      0  53.1000        S\n",
       "4         0       3   1  35.0      0      0   8.0500        S"
      ]
     },
     "execution_count": 419,
     "metadata": {},
     "output_type": "execute_result"
    }
   ],
   "source": [
    "datasetTrain[\"Sex\"]=datasetTrain[\"Sex\"].replace(\"female\", 0, regex=True)\n",
    "datasetTrain[\"Sex\"]=datasetTrain[\"Sex\"].replace(\"male\", 1, regex=True)\n",
    "datasetTrain.head()"
   ]
  },
  {
   "cell_type": "markdown",
   "id": "37189b39-7c9e-4bdd-a114-3398d24063eb",
   "metadata": {},
   "source": [
    "### Reemplazando la columna Embarked"
   ]
  },
  {
   "cell_type": "code",
   "execution_count": 420,
   "id": "1ef0a85e-d55f-484e-a036-abd8aaffc3e3",
   "metadata": {},
   "outputs": [
    {
     "data": {
      "text/plain": [
       "S    644\n",
       "C    168\n",
       "Q     77\n",
       "Name: Embarked, dtype: int64"
      ]
     },
     "execution_count": 420,
     "metadata": {},
     "output_type": "execute_result"
    }
   ],
   "source": [
    "dataset_categorics['Embarked'].value_counts()"
   ]
  },
  {
   "cell_type": "code",
   "execution_count": 421,
   "id": "86664264-663c-40a8-af5e-612296d7f06b",
   "metadata": {},
   "outputs": [
    {
     "data": {
      "text/html": [
       "<div>\n",
       "<style scoped>\n",
       "    .dataframe tbody tr th:only-of-type {\n",
       "        vertical-align: middle;\n",
       "    }\n",
       "\n",
       "    .dataframe tbody tr th {\n",
       "        vertical-align: top;\n",
       "    }\n",
       "\n",
       "    .dataframe thead th {\n",
       "        text-align: right;\n",
       "    }\n",
       "</style>\n",
       "<table border=\"1\" class=\"dataframe\">\n",
       "  <thead>\n",
       "    <tr style=\"text-align: right;\">\n",
       "      <th></th>\n",
       "      <th>Survived</th>\n",
       "      <th>Pclass</th>\n",
       "      <th>Sex</th>\n",
       "      <th>Age</th>\n",
       "      <th>SibSp</th>\n",
       "      <th>Parch</th>\n",
       "      <th>Fare</th>\n",
       "      <th>Embarked</th>\n",
       "    </tr>\n",
       "  </thead>\n",
       "  <tbody>\n",
       "    <tr>\n",
       "      <th>0</th>\n",
       "      <td>0</td>\n",
       "      <td>3</td>\n",
       "      <td>1</td>\n",
       "      <td>22.0</td>\n",
       "      <td>1</td>\n",
       "      <td>0</td>\n",
       "      <td>7.2500</td>\n",
       "      <td>644</td>\n",
       "    </tr>\n",
       "    <tr>\n",
       "      <th>1</th>\n",
       "      <td>1</td>\n",
       "      <td>1</td>\n",
       "      <td>0</td>\n",
       "      <td>38.0</td>\n",
       "      <td>1</td>\n",
       "      <td>0</td>\n",
       "      <td>71.2833</td>\n",
       "      <td>168</td>\n",
       "    </tr>\n",
       "    <tr>\n",
       "      <th>2</th>\n",
       "      <td>1</td>\n",
       "      <td>3</td>\n",
       "      <td>0</td>\n",
       "      <td>26.0</td>\n",
       "      <td>0</td>\n",
       "      <td>0</td>\n",
       "      <td>7.9250</td>\n",
       "      <td>644</td>\n",
       "    </tr>\n",
       "    <tr>\n",
       "      <th>3</th>\n",
       "      <td>1</td>\n",
       "      <td>1</td>\n",
       "      <td>0</td>\n",
       "      <td>35.0</td>\n",
       "      <td>1</td>\n",
       "      <td>0</td>\n",
       "      <td>53.1000</td>\n",
       "      <td>644</td>\n",
       "    </tr>\n",
       "    <tr>\n",
       "      <th>4</th>\n",
       "      <td>0</td>\n",
       "      <td>3</td>\n",
       "      <td>1</td>\n",
       "      <td>35.0</td>\n",
       "      <td>0</td>\n",
       "      <td>0</td>\n",
       "      <td>8.0500</td>\n",
       "      <td>644</td>\n",
       "    </tr>\n",
       "  </tbody>\n",
       "</table>\n",
       "</div>"
      ],
      "text/plain": [
       "   Survived  Pclass Sex   Age  SibSp  Parch     Fare Embarked\n",
       "0         0       3   1  22.0      1      0   7.2500      644\n",
       "1         1       1   0  38.0      1      0  71.2833      168\n",
       "2         1       3   0  26.0      0      0   7.9250      644\n",
       "3         1       1   0  35.0      1      0  53.1000      644\n",
       "4         0       3   1  35.0      0      0   8.0500      644"
      ]
     },
     "execution_count": 421,
     "metadata": {},
     "output_type": "execute_result"
    }
   ],
   "source": [
    "datasetTrain[\"Embarked\"]=datasetTrain[\"Embarked\"].replace(\"S\", 644, regex=True)\n",
    "datasetTrain[\"Embarked\"]=datasetTrain[\"Embarked\"].replace(\"C\", 168, regex=True)\n",
    "datasetTrain[\"Embarked\"]=datasetTrain[\"Embarked\"].replace(\"Q\", 77, regex=True)\n",
    "datasetTrain.head()"
   ]
  },
  {
   "cell_type": "markdown",
   "id": "a4a0be52-c160-4fcf-a0cf-73e0f55fe0d3",
   "metadata": {},
   "source": [
    "## Transformación de variables númericas"
   ]
  },
  {
   "cell_type": "code",
   "execution_count": 422,
   "id": "e267ab7c-2d57-495f-adef-5cc95e92d172",
   "metadata": {},
   "outputs": [
    {
     "data": {
      "text/html": [
       "<div>\n",
       "<style scoped>\n",
       "    .dataframe tbody tr th:only-of-type {\n",
       "        vertical-align: middle;\n",
       "    }\n",
       "\n",
       "    .dataframe tbody tr th {\n",
       "        vertical-align: top;\n",
       "    }\n",
       "\n",
       "    .dataframe thead th {\n",
       "        text-align: right;\n",
       "    }\n",
       "</style>\n",
       "<table border=\"1\" class=\"dataframe\">\n",
       "  <thead>\n",
       "    <tr style=\"text-align: right;\">\n",
       "      <th></th>\n",
       "      <th>Survived</th>\n",
       "      <th>Pclass</th>\n",
       "      <th>Sex</th>\n",
       "      <th>Age</th>\n",
       "      <th>SibSp</th>\n",
       "      <th>Parch</th>\n",
       "      <th>Fare</th>\n",
       "      <th>Embarked</th>\n",
       "    </tr>\n",
       "  </thead>\n",
       "  <tbody>\n",
       "    <tr>\n",
       "      <th>0</th>\n",
       "      <td>0</td>\n",
       "      <td>3</td>\n",
       "      <td>1</td>\n",
       "      <td>22.0</td>\n",
       "      <td>1</td>\n",
       "      <td>0</td>\n",
       "      <td>7.2500</td>\n",
       "      <td>644</td>\n",
       "    </tr>\n",
       "    <tr>\n",
       "      <th>1</th>\n",
       "      <td>1</td>\n",
       "      <td>1</td>\n",
       "      <td>0</td>\n",
       "      <td>38.0</td>\n",
       "      <td>1</td>\n",
       "      <td>0</td>\n",
       "      <td>71.2833</td>\n",
       "      <td>168</td>\n",
       "    </tr>\n",
       "    <tr>\n",
       "      <th>2</th>\n",
       "      <td>1</td>\n",
       "      <td>3</td>\n",
       "      <td>0</td>\n",
       "      <td>26.0</td>\n",
       "      <td>0</td>\n",
       "      <td>0</td>\n",
       "      <td>7.9250</td>\n",
       "      <td>644</td>\n",
       "    </tr>\n",
       "    <tr>\n",
       "      <th>3</th>\n",
       "      <td>1</td>\n",
       "      <td>1</td>\n",
       "      <td>0</td>\n",
       "      <td>35.0</td>\n",
       "      <td>1</td>\n",
       "      <td>0</td>\n",
       "      <td>53.1000</td>\n",
       "      <td>644</td>\n",
       "    </tr>\n",
       "    <tr>\n",
       "      <th>4</th>\n",
       "      <td>0</td>\n",
       "      <td>3</td>\n",
       "      <td>1</td>\n",
       "      <td>35.0</td>\n",
       "      <td>0</td>\n",
       "      <td>0</td>\n",
       "      <td>8.0500</td>\n",
       "      <td>644</td>\n",
       "    </tr>\n",
       "  </tbody>\n",
       "</table>\n",
       "</div>"
      ],
      "text/plain": [
       "   Survived  Pclass Sex   Age  SibSp  Parch     Fare Embarked\n",
       "0         0       3   1  22.0      1      0   7.2500      644\n",
       "1         1       1   0  38.0      1      0  71.2833      168\n",
       "2         1       3   0  26.0      0      0   7.9250      644\n",
       "3         1       1   0  35.0      1      0  53.1000      644\n",
       "4         0       3   1  35.0      0      0   8.0500      644"
      ]
     },
     "execution_count": 422,
     "metadata": {},
     "output_type": "execute_result"
    }
   ],
   "source": [
    "datasetTrain.head()"
   ]
  },
  {
   "cell_type": "code",
   "execution_count": 423,
   "id": "c6594426-fc77-40bf-95f3-d9417e373b79",
   "metadata": {},
   "outputs": [],
   "source": [
    "def getContinuesCols(df):\n",
    "    colnames=df.columns\n",
    "    numeric_continues_vars=[]\n",
    "    for col in colnames:\n",
    "        unique_values=len(df[col].unique())\n",
    "        if((df[col].dtype!=\"object\")and(unique_values>30)):\n",
    "            numeric_continues_vars.append(col)\n",
    "    return numeric_continues_vars"
   ]
  },
  {
   "cell_type": "code",
   "execution_count": 424,
   "id": "ac746520-1a82-4ac7-a8e6-667ca649129e",
   "metadata": {},
   "outputs": [
    {
     "data": {
      "text/plain": [
       "['Age', 'Fare']"
      ]
     },
     "execution_count": 424,
     "metadata": {},
     "output_type": "execute_result"
    }
   ],
   "source": [
    "numeric_cont_vars=getContinuesCols(datasetTrain)\n",
    "numeric_cont_vars"
   ]
  },
  {
   "cell_type": "code",
   "execution_count": 425,
   "id": "fd3642c8-b6fe-4fbb-bc9e-e4d40c720ce9",
   "metadata": {},
   "outputs": [],
   "source": [
    "def plot_density_variable(df,variable):\n",
    "    plt.figure(figsize=(15,6))\n",
    "    plt.subplot(121)\n",
    "    df[variable].hist(bins=30)\n",
    "    plt.title(variable)\n",
    "    \n",
    "    plt.subplot(122)\n",
    "    stats.probplot(df[variable],dist=\"norm\",plot=plt)\n",
    "    plt.show()"
   ]
  },
  {
   "cell_type": "code",
   "execution_count": 426,
   "id": "93475038-ce55-4ea9-87a5-337abcbfb003",
   "metadata": {},
   "outputs": [
    {
     "data": {
      "image/png": "[encoded data removed]",
      "text/plain": [
       "<Figure size 1080x432 with 2 Axes>"
      ]
     },
     "metadata": {
      "needs_background": "light"
     },
     "output_type": "display_data"
    },
    {
     "data": {
      "image/png": "[encoded data removed]",
      "text/plain": [
       "<Figure size 1080x432 with 2 Axes>"
      ]
     },
     "metadata": {
      "needs_background": "light"
     },
     "output_type": "display_data"
    }
   ],
   "source": [
    "for col in numeric_cont_vars:\n",
    "    plot_density_variable(datasetTrain, col)"
   ]
  },
  {
   "cell_type": "markdown",
   "id": "9fc17632-805e-4d7b-b347-9093976a7780",
   "metadata": {},
   "source": [
    "### Transformación BoxCox"
   ]
  },
  {
   "cell_type": "code",
   "execution_count": 427,
   "id": "4afb1c1b-24ba-49bc-ae60-447242f30974",
   "metadata": {},
   "outputs": [],
   "source": [
    "dataset_temp=datasetTrain"
   ]
  },
  {
   "cell_type": "markdown",
   "id": "09ea217e-b821-4d08-b12e-900dae901e7c",
   "metadata": {},
   "source": [
    "#### Age"
   ]
  },
  {
   "cell_type": "code",
   "execution_count": 428,
   "id": "1cc9db0c-a2b5-4b90-beeb-26014571ea89",
   "metadata": {},
   "outputs": [
    {
     "data": {
      "image/png": "[encoded data removed]",
      "text/plain": [
       "<Figure size 1080x432 with 2 Axes>"
      ]
     },
     "metadata": {
      "needs_background": "light"
     },
     "output_type": "display_data"
    }
   ],
   "source": [
    "dataset_temp['Age_BoxCox'], lambdaX=stats.boxcox(dataset_temp['Age'])\n",
    "plot_density_variable(dataset_temp,'Age_BoxCox')\n",
    "#np.corrcoef(dataset_temp['Age_BoxCox'], datasetTrain['Survived'])"
   ]
  },
  {
   "cell_type": "code",
   "execution_count": 429,
   "id": "58728aac-f6c0-4ab8-a4bf-09c27886d2b2",
   "metadata": {},
   "outputs": [],
   "source": [
    "datasetTrain['Age']=dataset_temp['Age_BoxCox']\n",
    "datasetTrain=datasetTrain.drop(['Age_BoxCox'], axis=1)"
   ]
  },
  {
   "cell_type": "code",
   "execution_count": 430,
   "id": "4bbad3d7-2ffc-4802-96f5-21d510616a57",
   "metadata": {},
   "outputs": [
    {
     "data": {
      "text/html": [
       "<div>\n",
       "<style scoped>\n",
       "    .dataframe tbody tr th:only-of-type {\n",
       "        vertical-align: middle;\n",
       "    }\n",
       "\n",
       "    .dataframe tbody tr th {\n",
       "        vertical-align: top;\n",
       "    }\n",
       "\n",
       "    .dataframe thead th {\n",
       "        text-align: right;\n",
       "    }\n",
       "</style>\n",
       "<table border=\"1\" class=\"dataframe\">\n",
       "  <thead>\n",
       "    <tr style=\"text-align: right;\">\n",
       "      <th></th>\n",
       "      <th>Survived</th>\n",
       "      <th>Pclass</th>\n",
       "      <th>Sex</th>\n",
       "      <th>Age</th>\n",
       "      <th>SibSp</th>\n",
       "      <th>Parch</th>\n",
       "      <th>Fare</th>\n",
       "      <th>Embarked</th>\n",
       "    </tr>\n",
       "  </thead>\n",
       "  <tbody>\n",
       "    <tr>\n",
       "      <th>0</th>\n",
       "      <td>0</td>\n",
       "      <td>3</td>\n",
       "      <td>1</td>\n",
       "      <td>13.515709</td>\n",
       "      <td>1</td>\n",
       "      <td>0</td>\n",
       "      <td>7.2500</td>\n",
       "      <td>644</td>\n",
       "    </tr>\n",
       "    <tr>\n",
       "      <th>1</th>\n",
       "      <td>1</td>\n",
       "      <td>1</td>\n",
       "      <td>0</td>\n",
       "      <td>21.591575</td>\n",
       "      <td>1</td>\n",
       "      <td>0</td>\n",
       "      <td>71.2833</td>\n",
       "      <td>168</td>\n",
       "    </tr>\n",
       "    <tr>\n",
       "      <th>2</th>\n",
       "      <td>1</td>\n",
       "      <td>3</td>\n",
       "      <td>0</td>\n",
       "      <td>15.622089</td>\n",
       "      <td>0</td>\n",
       "      <td>0</td>\n",
       "      <td>7.9250</td>\n",
       "      <td>644</td>\n",
       "    </tr>\n",
       "    <tr>\n",
       "      <th>3</th>\n",
       "      <td>1</td>\n",
       "      <td>1</td>\n",
       "      <td>0</td>\n",
       "      <td>20.140314</td>\n",
       "      <td>1</td>\n",
       "      <td>0</td>\n",
       "      <td>53.1000</td>\n",
       "      <td>644</td>\n",
       "    </tr>\n",
       "    <tr>\n",
       "      <th>4</th>\n",
       "      <td>0</td>\n",
       "      <td>3</td>\n",
       "      <td>1</td>\n",
       "      <td>20.140314</td>\n",
       "      <td>0</td>\n",
       "      <td>0</td>\n",
       "      <td>8.0500</td>\n",
       "      <td>644</td>\n",
       "    </tr>\n",
       "  </tbody>\n",
       "</table>\n",
       "</div>"
      ],
      "text/plain": [
       "   Survived  Pclass Sex        Age  SibSp  Parch     Fare Embarked\n",
       "0         0       3   1  13.515709      1      0   7.2500      644\n",
       "1         1       1   0  21.591575      1      0  71.2833      168\n",
       "2         1       3   0  15.622089      0      0   7.9250      644\n",
       "3         1       1   0  20.140314      1      0  53.1000      644\n",
       "4         0       3   1  20.140314      0      0   8.0500      644"
      ]
     },
     "execution_count": 430,
     "metadata": {},
     "output_type": "execute_result"
    }
   ],
   "source": [
    "datasetTrain.head()"
   ]
  },
  {
   "cell_type": "markdown",
   "id": "387849d5-cbcd-4861-bb8d-aca4d437e12d",
   "metadata": {},
   "source": [
    "#### Fare"
   ]
  },
  {
   "cell_type": "code",
   "execution_count": 431,
   "id": "d0213835-73f7-4d8b-a52e-6ac42149ded8",
   "metadata": {},
   "outputs": [
    {
     "data": {
      "image/png": "[encoded data removed]",
      "text/plain": [
       "<Figure size 1080x432 with 2 Axes>"
      ]
     },
     "metadata": {
      "needs_background": "light"
     },
     "output_type": "display_data"
    }
   ],
   "source": [
    "dataset_temp['Fare_BoxCox'], lambdaX=stats.yeojohnson(dataset_temp['Fare'])\n",
    "plot_density_variable(dataset_temp,'Fare_BoxCox')"
   ]
  },
  {
   "cell_type": "code",
   "execution_count": 432,
   "id": "3aa94219-1fa0-42a5-9785-e4071b085ba9",
   "metadata": {},
   "outputs": [],
   "source": [
    "datasetTrain['Fare']=dataset_temp['Fare_BoxCox']\n",
    "#datasetTrain=datasetTrain.drop(['Fare_BoxCox'], axis=1)"
   ]
  },
  {
   "cell_type": "code",
   "execution_count": 433,
   "id": "595ef27c-da27-437c-85e7-cfb5ffb020a1",
   "metadata": {},
   "outputs": [
    {
     "data": {
      "text/html": [
       "<div>\n",
       "<style scoped>\n",
       "    .dataframe tbody tr th:only-of-type {\n",
       "        vertical-align: middle;\n",
       "    }\n",
       "\n",
       "    .dataframe tbody tr th {\n",
       "        vertical-align: top;\n",
       "    }\n",
       "\n",
       "    .dataframe thead th {\n",
       "        text-align: right;\n",
       "    }\n",
       "</style>\n",
       "<table border=\"1\" class=\"dataframe\">\n",
       "  <thead>\n",
       "    <tr style=\"text-align: right;\">\n",
       "      <th></th>\n",
       "      <th>Survived</th>\n",
       "      <th>Pclass</th>\n",
       "      <th>Sex</th>\n",
       "      <th>Age</th>\n",
       "      <th>SibSp</th>\n",
       "      <th>Parch</th>\n",
       "      <th>Fare</th>\n",
       "      <th>Embarked</th>\n",
       "    </tr>\n",
       "  </thead>\n",
       "  <tbody>\n",
       "    <tr>\n",
       "      <th>0</th>\n",
       "      <td>0</td>\n",
       "      <td>3</td>\n",
       "      <td>1</td>\n",
       "      <td>13.515709</td>\n",
       "      <td>1</td>\n",
       "      <td>0</td>\n",
       "      <td>1.905198</td>\n",
       "      <td>644</td>\n",
       "    </tr>\n",
       "    <tr>\n",
       "      <th>1</th>\n",
       "      <td>1</td>\n",
       "      <td>1</td>\n",
       "      <td>0</td>\n",
       "      <td>21.591575</td>\n",
       "      <td>1</td>\n",
       "      <td>0</td>\n",
       "      <td>3.492168</td>\n",
       "      <td>168</td>\n",
       "    </tr>\n",
       "    <tr>\n",
       "      <th>2</th>\n",
       "      <td>1</td>\n",
       "      <td>3</td>\n",
       "      <td>0</td>\n",
       "      <td>15.622089</td>\n",
       "      <td>0</td>\n",
       "      <td>0</td>\n",
       "      <td>1.968824</td>\n",
       "      <td>644</td>\n",
       "    </tr>\n",
       "    <tr>\n",
       "      <th>3</th>\n",
       "      <td>1</td>\n",
       "      <td>1</td>\n",
       "      <td>0</td>\n",
       "      <td>20.140314</td>\n",
       "      <td>1</td>\n",
       "      <td>0</td>\n",
       "      <td>3.299415</td>\n",
       "      <td>644</td>\n",
       "    </tr>\n",
       "    <tr>\n",
       "      <th>4</th>\n",
       "      <td>0</td>\n",
       "      <td>3</td>\n",
       "      <td>1</td>\n",
       "      <td>20.140314</td>\n",
       "      <td>0</td>\n",
       "      <td>0</td>\n",
       "      <td>1.980026</td>\n",
       "      <td>644</td>\n",
       "    </tr>\n",
       "  </tbody>\n",
       "</table>\n",
       "</div>"
      ],
      "text/plain": [
       "   Survived  Pclass Sex        Age  SibSp  Parch      Fare Embarked\n",
       "0         0       3   1  13.515709      1      0  1.905198      644\n",
       "1         1       1   0  21.591575      1      0  3.492168      168\n",
       "2         1       3   0  15.622089      0      0  1.968824      644\n",
       "3         1       1   0  20.140314      1      0  3.299415      644\n",
       "4         0       3   1  20.140314      0      0  1.980026      644"
      ]
     },
     "execution_count": 433,
     "metadata": {},
     "output_type": "execute_result"
    }
   ],
   "source": [
    "datasetTrain.head()"
   ]
  },
  {
   "cell_type": "markdown",
   "id": "ed5698b0-7502-4d47-a1d8-e56ae20ad5e1",
   "metadata": {},
   "source": [
    "## Outliers y Capping"
   ]
  },
  {
   "cell_type": "code",
   "execution_count": 434,
   "id": "c08d4a27-522a-49b1-afa7-3ea61c3fb344",
   "metadata": {},
   "outputs": [],
   "source": [
    "def inspect_outliers(df,variable):\n",
    "    plt.figure(figsize=(15,6))\n",
    "    \n",
    "    plt.subplot(131)\n",
    "    sns.distplot(df[variable],bins=30)\n",
    "    plt.title(\"Densisd-Histogram: \"+col)\n",
    "    \n",
    "    plt.subplot(132)\n",
    "    stats.probplot(df[variable],dist=\"norm\",plot=plt)\n",
    "    plt.title(\"QQ-Plot:\"+col)\n",
    "    \n",
    "    plt.subplot(133)\n",
    "    sns.boxplot(y=df[variable])\n",
    "    plt.title(\"Boxplot:\"+col)\n",
    "    \n",
    "    plt.show()"
   ]
  },
  {
   "cell_type": "code",
   "execution_count": 435,
   "id": "4355a9b0-cac4-4f03-a4fe-6ff183a8eb9d",
   "metadata": {},
   "outputs": [
    {
     "name": "stderr",
     "output_type": "stream",
     "text": [
      "C:\\Users\\Usuario\\anaconda3\\lib\\site-packages\\seaborn\\distributions.py:2619: FutureWarning: `distplot` is a deprecated function and will be removed in a future version. Please adapt your code to use either `displot` (a figure-level function with similar flexibility) or `histplot` (an axes-level function for histograms).\n",
      "  warnings.warn(msg, FutureWarning)\n"
     ]
    },
    {
     "data": {
      "image/png": "[encoded data removed]",
      "text/plain": [
       "<Figure size 1080x432 with 3 Axes>"
      ]
     },
     "metadata": {
      "needs_background": "light"
     },
     "output_type": "display_data"
    },
    {
     "name": "stderr",
     "output_type": "stream",
     "text": [
      "C:\\Users\\Usuario\\anaconda3\\lib\\site-packages\\seaborn\\distributions.py:2619: FutureWarning: `distplot` is a deprecated function and will be removed in a future version. Please adapt your code to use either `displot` (a figure-level function with similar flexibility) or `histplot` (an axes-level function for histograms).\n",
      "  warnings.warn(msg, FutureWarning)\n"
     ]
    },
    {
     "data": {
      "image/png": "[encoded data removed]",
      "text/plain": [
       "<Figure size 1080x432 with 3 Axes>"
      ]
     },
     "metadata": {
      "needs_background": "light"
     },
     "output_type": "display_data"
    }
   ],
   "source": [
    "for col in numeric_cont_vars:\n",
    "    inspect_outliers(datasetTrain,col)"
   ]
  },
  {
   "cell_type": "code",
   "execution_count": 436,
   "id": "009c3906-28e4-4ee2-9934-b4dcead3347a",
   "metadata": {},
   "outputs": [],
   "source": [
    "def detect_outliers(df,variable,factor):\n",
    "    IQR=df[variable].quantile(0.75)-df[variable].quantile(0.25)\n",
    "    LI=df[variable].quantile(0.25)-(IQR*factor)\n",
    "    LS=df[variable].quantile(0.75)+(IQR*factor)\n",
    "    return LI,LS"
   ]
  },
  {
   "cell_type": "code",
   "execution_count": 437,
   "id": "e4cc83a2-0873-47e9-9395-0decc1747801",
   "metadata": {},
   "outputs": [
    {
     "name": "stderr",
     "output_type": "stream",
     "text": [
      "C:\\Users\\Usuario\\anaconda3\\lib\\site-packages\\seaborn\\distributions.py:2619: FutureWarning: `distplot` is a deprecated function and will be removed in a future version. Please adapt your code to use either `displot` (a figure-level function with similar flexibility) or `histplot` (an axes-level function for histograms).\n",
      "  warnings.warn(msg, FutureWarning)\n"
     ]
    },
    {
     "data": {
      "image/png": "[encoded data removed]",
      "text/plain": [
       "<Figure size 1080x432 with 3 Axes>"
      ]
     },
     "metadata": {
      "needs_background": "light"
     },
     "output_type": "display_data"
    },
    {
     "name": "stderr",
     "output_type": "stream",
     "text": [
      "C:\\Users\\Usuario\\anaconda3\\lib\\site-packages\\seaborn\\distributions.py:2619: FutureWarning: `distplot` is a deprecated function and will be removed in a future version. Please adapt your code to use either `displot` (a figure-level function with similar flexibility) or `histplot` (an axes-level function for histograms).\n",
      "  warnings.warn(msg, FutureWarning)\n"
     ]
    },
    {
     "data": {
      "image/png": "[encoded data removed]",
      "text/plain": [
       "<Figure size 1080x432 with 3 Axes>"
      ]
     },
     "metadata": {
      "needs_background": "light"
     },
     "output_type": "display_data"
    }
   ],
   "source": [
    "for col in numeric_cont_vars:\n",
    "    limites=detect_outliers(datasetTrain,col,1.5)\n",
    "    LF_LI, LF_LS=limites\n",
    "    datasetTrain[col]=np.where(datasetTrain[col]>LF_LS,LF_LS,\n",
    "                                        np.where(datasetTrain[col]<LF_LI,LF_LI, datasetTrain[col]))\n",
    "    inspect_outliers(datasetTrain,col)"
   ]
  },
  {
   "cell_type": "markdown",
   "id": "a9464272-8fba-4106-94a0-49565631402c",
   "metadata": {},
   "source": [
    "## Feature Scaling"
   ]
  },
  {
   "cell_type": "code",
   "execution_count": 388,
   "id": "f34a23eb-a665-4c77-8aac-ebebf3b1dabc",
   "metadata": {},
   "outputs": [],
   "source": [
    "#dataset_temp=datasetTrain.loc[:,numeric_cont_vars]"
   ]
  },
  {
   "cell_type": "code",
   "execution_count": 389,
   "id": "1d81c275-b5ce-4785-abd7-d0327f1a94a3",
   "metadata": {},
   "outputs": [
    {
     "data": {
      "text/plain": [
       "StandardScaler()"
      ]
     },
     "execution_count": 389,
     "metadata": {},
     "output_type": "execute_result"
    }
   ],
   "source": [
    "#scaler=StandardScaler()\n",
    "#scaler.fit(dataset_temp) "
   ]
  },
  {
   "cell_type": "code",
   "execution_count": 390,
   "id": "8da92116-d1f8-400a-a457-c9aa479f832a",
   "metadata": {},
   "outputs": [],
   "source": [
    "#dataset_temp_scaled=pd.DataFrame(scaler.transform(dataset_temp),columns=dataset_temp.columns)"
   ]
  },
  {
   "cell_type": "code",
   "execution_count": 391,
   "id": "4d93cc28-b889-409b-824a-95323a6aac87",
   "metadata": {},
   "outputs": [
    {
     "data": {
      "text/html": [
       "<div>\n",
       "<style scoped>\n",
       "    .dataframe tbody tr th:only-of-type {\n",
       "        vertical-align: middle;\n",
       "    }\n",
       "\n",
       "    .dataframe tbody tr th {\n",
       "        vertical-align: top;\n",
       "    }\n",
       "\n",
       "    .dataframe thead th {\n",
       "        text-align: right;\n",
       "    }\n",
       "</style>\n",
       "<table border=\"1\" class=\"dataframe\">\n",
       "  <thead>\n",
       "    <tr style=\"text-align: right;\">\n",
       "      <th></th>\n",
       "      <th>Age</th>\n",
       "      <th>Fare</th>\n",
       "    </tr>\n",
       "  </thead>\n",
       "  <tbody>\n",
       "    <tr>\n",
       "      <th>count</th>\n",
       "      <td>889.00</td>\n",
       "      <td>889.00</td>\n",
       "    </tr>\n",
       "    <tr>\n",
       "      <th>mean</th>\n",
       "      <td>0.00</td>\n",
       "      <td>0.00</td>\n",
       "    </tr>\n",
       "    <tr>\n",
       "      <th>std</th>\n",
       "      <td>1.00</td>\n",
       "      <td>1.00</td>\n",
       "    </tr>\n",
       "    <tr>\n",
       "      <th>min</th>\n",
       "      <td>-2.18</td>\n",
       "      <td>-2.96</td>\n",
       "    </tr>\n",
       "    <tr>\n",
       "      <th>25%</th>\n",
       "      <td>-0.56</td>\n",
       "      <td>-0.84</td>\n",
       "    </tr>\n",
       "    <tr>\n",
       "      <th>50%</th>\n",
       "      <td>-0.05</td>\n",
       "      <td>-0.21</td>\n",
       "    </tr>\n",
       "    <tr>\n",
       "      <th>75%</th>\n",
       "      <td>0.51</td>\n",
       "      <td>0.58</td>\n",
       "    </tr>\n",
       "    <tr>\n",
       "      <th>max</th>\n",
       "      <td>2.13</td>\n",
       "      <td>2.70</td>\n",
       "    </tr>\n",
       "  </tbody>\n",
       "</table>\n",
       "</div>"
      ],
      "text/plain": [
       "          Age    Fare\n",
       "count  889.00  889.00\n",
       "mean     0.00    0.00\n",
       "std      1.00    1.00\n",
       "min     -2.18   -2.96\n",
       "25%     -0.56   -0.84\n",
       "50%     -0.05   -0.21\n",
       "75%      0.51    0.58\n",
       "max      2.13    2.70"
      ]
     },
     "execution_count": 391,
     "metadata": {},
     "output_type": "execute_result"
    }
   ],
   "source": [
    "#np.round(dataset_temp_scaled.describe(),2)"
   ]
  },
  {
   "cell_type": "code",
   "execution_count": 392,
   "id": "c81209a3-92c6-49f9-9495-6e9956fc9283",
   "metadata": {},
   "outputs": [],
   "source": [
    "#datasetTrain.loc[:,numeric_cont_vars]=dataset_temp_scaled"
   ]
  },
  {
   "cell_type": "code",
   "execution_count": 438,
   "id": "8c19ad2a-45a6-4b71-aa9c-43673224f948",
   "metadata": {},
   "outputs": [
    {
     "data": {
      "text/html": [
       "<div>\n",
       "<style scoped>\n",
       "    .dataframe tbody tr th:only-of-type {\n",
       "        vertical-align: middle;\n",
       "    }\n",
       "\n",
       "    .dataframe tbody tr th {\n",
       "        vertical-align: top;\n",
       "    }\n",
       "\n",
       "    .dataframe thead th {\n",
       "        text-align: right;\n",
       "    }\n",
       "</style>\n",
       "<table border=\"1\" class=\"dataframe\">\n",
       "  <thead>\n",
       "    <tr style=\"text-align: right;\">\n",
       "      <th></th>\n",
       "      <th>Survived</th>\n",
       "      <th>Pclass</th>\n",
       "      <th>Sex</th>\n",
       "      <th>Age</th>\n",
       "      <th>SibSp</th>\n",
       "      <th>Parch</th>\n",
       "      <th>Fare</th>\n",
       "      <th>Embarked</th>\n",
       "    </tr>\n",
       "  </thead>\n",
       "  <tbody>\n",
       "    <tr>\n",
       "      <th>0</th>\n",
       "      <td>0</td>\n",
       "      <td>3</td>\n",
       "      <td>1</td>\n",
       "      <td>13.515709</td>\n",
       "      <td>1</td>\n",
       "      <td>0</td>\n",
       "      <td>1.905198</td>\n",
       "      <td>644</td>\n",
       "    </tr>\n",
       "    <tr>\n",
       "      <th>1</th>\n",
       "      <td>1</td>\n",
       "      <td>1</td>\n",
       "      <td>0</td>\n",
       "      <td>21.591575</td>\n",
       "      <td>1</td>\n",
       "      <td>0</td>\n",
       "      <td>3.492168</td>\n",
       "      <td>168</td>\n",
       "    </tr>\n",
       "    <tr>\n",
       "      <th>2</th>\n",
       "      <td>1</td>\n",
       "      <td>3</td>\n",
       "      <td>0</td>\n",
       "      <td>15.622089</td>\n",
       "      <td>0</td>\n",
       "      <td>0</td>\n",
       "      <td>1.968824</td>\n",
       "      <td>644</td>\n",
       "    </tr>\n",
       "    <tr>\n",
       "      <th>3</th>\n",
       "      <td>1</td>\n",
       "      <td>1</td>\n",
       "      <td>0</td>\n",
       "      <td>20.140314</td>\n",
       "      <td>1</td>\n",
       "      <td>0</td>\n",
       "      <td>3.299415</td>\n",
       "      <td>644</td>\n",
       "    </tr>\n",
       "    <tr>\n",
       "      <th>4</th>\n",
       "      <td>0</td>\n",
       "      <td>3</td>\n",
       "      <td>1</td>\n",
       "      <td>20.140314</td>\n",
       "      <td>0</td>\n",
       "      <td>0</td>\n",
       "      <td>1.980026</td>\n",
       "      <td>644</td>\n",
       "    </tr>\n",
       "  </tbody>\n",
       "</table>\n",
       "</div>"
      ],
      "text/plain": [
       "   Survived  Pclass Sex        Age  SibSp  Parch      Fare Embarked\n",
       "0         0       3   1  13.515709      1      0  1.905198      644\n",
       "1         1       1   0  21.591575      1      0  3.492168      168\n",
       "2         1       3   0  15.622089      0      0  1.968824      644\n",
       "3         1       1   0  20.140314      1      0  3.299415      644\n",
       "4         0       3   1  20.140314      0      0  1.980026      644"
      ]
     },
     "execution_count": 438,
     "metadata": {},
     "output_type": "execute_result"
    }
   ],
   "source": [
    "datasetTrain.head()"
   ]
  },
  {
   "cell_type": "code",
   "execution_count": 439,
   "id": "5d202f1e-beac-46f1-b463-2bf0aabd2871",
   "metadata": {},
   "outputs": [],
   "source": [
    "datasetTrain.to_csv(r'FE_Train.csv', index=False)"
   ]
  },
  {
   "cell_type": "code",
   "execution_count": null,
   "id": "051afbf9-8018-4efa-aa26-a8a0f4535797",
   "metadata": {},
   "outputs": [],
   "source": []
  }
 ],
 "metadata": {
  "kernelspec": {
   "display_name": "Python 3 (ipykernel)",
   "language": "python",
   "name": "python3"
  },
  "language_info": {
   "codemirror_mode": {
    "name": "ipython",
    "version": 3
   },
   "file_extension": ".py",
   "mimetype": "text/x-python",
   "name": "python",
   "nbconvert_exporter": "python",
   "pygments_lexer": "ipython3",
   "version": "3.9.7"
  }
 },
 "nbformat": 4,
 "nbformat_minor": 5
}
