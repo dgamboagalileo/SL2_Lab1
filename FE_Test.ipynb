{
 "cells": [
  {
   "cell_type": "code",
   "execution_count": 48,
   "id": "9864e69c-1121-4f43-af6b-0a9fca0f6552",
   "metadata": {},
   "outputs": [],
   "source": [
    "import pandas as pd\n",
    "import numpy as np\n",
    "import matplotlib.pyplot as plt\n",
    "import statistics as stdev\n",
    "import seaborn as sns\n",
    "from sklearn.linear_model import LinearRegression\n",
    "from sklearn import linear_model\n",
    "import scipy.stats as stats\n",
    "from sklearn.preprocessing import StandardScaler"
   ]
  },
  {
   "cell_type": "markdown",
   "id": "9ba5f761-6c16-491d-b162-eb7d5a56b7ea",
   "metadata": {},
   "source": [
    "# Ingenieria de Caracteristicas Test"
   ]
  },
  {
   "cell_type": "code",
   "execution_count": 49,
   "id": "69d30eef-8e19-4d2c-a260-925023ddccaa",
   "metadata": {},
   "outputs": [
    {
     "data": {
      "text/html": [
       "<div>\n",
       "<style scoped>\n",
       "    .dataframe tbody tr th:only-of-type {\n",
       "        vertical-align: middle;\n",
       "    }\n",
       "\n",
       "    .dataframe tbody tr th {\n",
       "        vertical-align: top;\n",
       "    }\n",
       "\n",
       "    .dataframe thead th {\n",
       "        text-align: right;\n",
       "    }\n",
       "</style>\n",
       "<table border=\"1\" class=\"dataframe\">\n",
       "  <thead>\n",
       "    <tr style=\"text-align: right;\">\n",
       "      <th></th>\n",
       "      <th>Pclass</th>\n",
       "      <th>Name</th>\n",
       "      <th>Sex</th>\n",
       "      <th>Age</th>\n",
       "      <th>SibSp</th>\n",
       "      <th>Parch</th>\n",
       "      <th>Ticket</th>\n",
       "      <th>Fare</th>\n",
       "      <th>Cabin</th>\n",
       "      <th>Embarked</th>\n",
       "    </tr>\n",
       "  </thead>\n",
       "  <tbody>\n",
       "    <tr>\n",
       "      <th>0</th>\n",
       "      <td>3</td>\n",
       "      <td>Kelly, Mr. James</td>\n",
       "      <td>male</td>\n",
       "      <td>34.5</td>\n",
       "      <td>0</td>\n",
       "      <td>0</td>\n",
       "      <td>330911</td>\n",
       "      <td>7.8292</td>\n",
       "      <td>NaN</td>\n",
       "      <td>Q</td>\n",
       "    </tr>\n",
       "    <tr>\n",
       "      <th>1</th>\n",
       "      <td>3</td>\n",
       "      <td>Wilkes, Mrs. James (Ellen Needs)</td>\n",
       "      <td>female</td>\n",
       "      <td>47.0</td>\n",
       "      <td>1</td>\n",
       "      <td>0</td>\n",
       "      <td>363272</td>\n",
       "      <td>7.0000</td>\n",
       "      <td>NaN</td>\n",
       "      <td>S</td>\n",
       "    </tr>\n",
       "    <tr>\n",
       "      <th>2</th>\n",
       "      <td>2</td>\n",
       "      <td>Myles, Mr. Thomas Francis</td>\n",
       "      <td>male</td>\n",
       "      <td>62.0</td>\n",
       "      <td>0</td>\n",
       "      <td>0</td>\n",
       "      <td>240276</td>\n",
       "      <td>9.6875</td>\n",
       "      <td>NaN</td>\n",
       "      <td>Q</td>\n",
       "    </tr>\n",
       "    <tr>\n",
       "      <th>3</th>\n",
       "      <td>3</td>\n",
       "      <td>Wirz, Mr. Albert</td>\n",
       "      <td>male</td>\n",
       "      <td>27.0</td>\n",
       "      <td>0</td>\n",
       "      <td>0</td>\n",
       "      <td>315154</td>\n",
       "      <td>8.6625</td>\n",
       "      <td>NaN</td>\n",
       "      <td>S</td>\n",
       "    </tr>\n",
       "    <tr>\n",
       "      <th>4</th>\n",
       "      <td>3</td>\n",
       "      <td>Hirvonen, Mrs. Alexander (Helga E Lindqvist)</td>\n",
       "      <td>female</td>\n",
       "      <td>22.0</td>\n",
       "      <td>1</td>\n",
       "      <td>1</td>\n",
       "      <td>3101298</td>\n",
       "      <td>12.2875</td>\n",
       "      <td>NaN</td>\n",
       "      <td>S</td>\n",
       "    </tr>\n",
       "  </tbody>\n",
       "</table>\n",
       "</div>"
      ],
      "text/plain": [
       "   Pclass                                          Name     Sex   Age  SibSp  \\\n",
       "0       3                              Kelly, Mr. James    male  34.5      0   \n",
       "1       3              Wilkes, Mrs. James (Ellen Needs)  female  47.0      1   \n",
       "2       2                     Myles, Mr. Thomas Francis    male  62.0      0   \n",
       "3       3                              Wirz, Mr. Albert    male  27.0      0   \n",
       "4       3  Hirvonen, Mrs. Alexander (Helga E Lindqvist)  female  22.0      1   \n",
       "\n",
       "   Parch   Ticket     Fare Cabin Embarked  \n",
       "0      0   330911   7.8292   NaN        Q  \n",
       "1      0   363272   7.0000   NaN        S  \n",
       "2      0   240276   9.6875   NaN        Q  \n",
       "3      0   315154   8.6625   NaN        S  \n",
       "4      1  3101298  12.2875   NaN        S  "
      ]
     },
     "execution_count": 49,
     "metadata": {},
     "output_type": "execute_result"
    }
   ],
   "source": [
    "datasetTest = pd.read_csv('test.csv')\n",
    "datasetTest=datasetTest.drop(['PassengerId'], axis=1)\n",
    "datasetTest.head()"
   ]
  },
  {
   "cell_type": "markdown",
   "id": "29f50d04-4415-4c6a-b2ae-ed9a872ec532",
   "metadata": {},
   "source": [
    "## Verificacion de NaN"
   ]
  },
  {
   "cell_type": "code",
   "execution_count": 50,
   "id": "4a403265-edfe-4d7e-80ea-358086020654",
   "metadata": {},
   "outputs": [],
   "source": [
    "def getNanColNames(df):\n",
    "    colnames=df.columns\n",
    "    cols_con_na=[]\n",
    "    for col in colnames:\n",
    "        if(df[col].isnull().sum()>0):\n",
    "            cols_con_na.append(col)\n",
    "    return cols_con_na"
   ]
  },
  {
   "cell_type": "code",
   "execution_count": 51,
   "id": "7495f77a-ffe7-4ff8-afb2-8ad1ea8a986b",
   "metadata": {},
   "outputs": [
    {
     "data": {
      "text/plain": [
       "['Age', 'Fare', 'Cabin']"
      ]
     },
     "execution_count": 51,
     "metadata": {},
     "output_type": "execute_result"
    }
   ],
   "source": [
    "cols_con_nan=getNanColNames(datasetTest)\n",
    "cols_con_nan"
   ]
  },
  {
   "cell_type": "code",
   "execution_count": 52,
   "id": "18b08055-32eb-4e13-89b6-bd85b80a2410",
   "metadata": {},
   "outputs": [
    {
     "data": {
      "text/plain": [
       "Age      float64\n",
       "Fare     float64\n",
       "Cabin     object\n",
       "dtype: object"
      ]
     },
     "execution_count": 52,
     "metadata": {},
     "output_type": "execute_result"
    }
   ],
   "source": [
    "datasetTest[cols_con_nan].dtypes"
   ]
  },
  {
   "cell_type": "code",
   "execution_count": 53,
   "id": "8f2f9e3b-445f-44cf-a41d-eb04b29692d3",
   "metadata": {},
   "outputs": [
    {
     "data": {
      "text/plain": [
       "Age      0.205742\n",
       "Fare     0.002392\n",
       "Cabin    0.782297\n",
       "dtype: float64"
      ]
     },
     "execution_count": 53,
     "metadata": {},
     "output_type": "execute_result"
    }
   ],
   "source": [
    "datasetTest[cols_con_nan].isnull().mean()"
   ]
  },
  {
   "cell_type": "code",
   "execution_count": 54,
   "id": "967d0da2-078d-4f6e-b2f6-20f906621ccb",
   "metadata": {},
   "outputs": [],
   "source": [
    "datasetTest=datasetTest.drop(['Cabin'], axis=1)"
   ]
  },
  {
   "cell_type": "code",
   "execution_count": 55,
   "id": "5291392a-50d8-4725-abe7-97c2f5f21b8e",
   "metadata": {},
   "outputs": [
    {
     "data": {
      "text/html": [
       "<div>\n",
       "<style scoped>\n",
       "    .dataframe tbody tr th:only-of-type {\n",
       "        vertical-align: middle;\n",
       "    }\n",
       "\n",
       "    .dataframe tbody tr th {\n",
       "        vertical-align: top;\n",
       "    }\n",
       "\n",
       "    .dataframe thead th {\n",
       "        text-align: right;\n",
       "    }\n",
       "</style>\n",
       "<table border=\"1\" class=\"dataframe\">\n",
       "  <thead>\n",
       "    <tr style=\"text-align: right;\">\n",
       "      <th></th>\n",
       "      <th>Pclass</th>\n",
       "      <th>Name</th>\n",
       "      <th>Sex</th>\n",
       "      <th>Age</th>\n",
       "      <th>SibSp</th>\n",
       "      <th>Parch</th>\n",
       "      <th>Ticket</th>\n",
       "      <th>Fare</th>\n",
       "      <th>Embarked</th>\n",
       "    </tr>\n",
       "  </thead>\n",
       "  <tbody>\n",
       "    <tr>\n",
       "      <th>0</th>\n",
       "      <td>3</td>\n",
       "      <td>Kelly, Mr. James</td>\n",
       "      <td>male</td>\n",
       "      <td>34.5</td>\n",
       "      <td>0</td>\n",
       "      <td>0</td>\n",
       "      <td>330911</td>\n",
       "      <td>7.8292</td>\n",
       "      <td>Q</td>\n",
       "    </tr>\n",
       "    <tr>\n",
       "      <th>1</th>\n",
       "      <td>3</td>\n",
       "      <td>Wilkes, Mrs. James (Ellen Needs)</td>\n",
       "      <td>female</td>\n",
       "      <td>47.0</td>\n",
       "      <td>1</td>\n",
       "      <td>0</td>\n",
       "      <td>363272</td>\n",
       "      <td>7.0000</td>\n",
       "      <td>S</td>\n",
       "    </tr>\n",
       "    <tr>\n",
       "      <th>2</th>\n",
       "      <td>2</td>\n",
       "      <td>Myles, Mr. Thomas Francis</td>\n",
       "      <td>male</td>\n",
       "      <td>62.0</td>\n",
       "      <td>0</td>\n",
       "      <td>0</td>\n",
       "      <td>240276</td>\n",
       "      <td>9.6875</td>\n",
       "      <td>Q</td>\n",
       "    </tr>\n",
       "    <tr>\n",
       "      <th>3</th>\n",
       "      <td>3</td>\n",
       "      <td>Wirz, Mr. Albert</td>\n",
       "      <td>male</td>\n",
       "      <td>27.0</td>\n",
       "      <td>0</td>\n",
       "      <td>0</td>\n",
       "      <td>315154</td>\n",
       "      <td>8.6625</td>\n",
       "      <td>S</td>\n",
       "    </tr>\n",
       "    <tr>\n",
       "      <th>4</th>\n",
       "      <td>3</td>\n",
       "      <td>Hirvonen, Mrs. Alexander (Helga E Lindqvist)</td>\n",
       "      <td>female</td>\n",
       "      <td>22.0</td>\n",
       "      <td>1</td>\n",
       "      <td>1</td>\n",
       "      <td>3101298</td>\n",
       "      <td>12.2875</td>\n",
       "      <td>S</td>\n",
       "    </tr>\n",
       "  </tbody>\n",
       "</table>\n",
       "</div>"
      ],
      "text/plain": [
       "   Pclass                                          Name     Sex   Age  SibSp  \\\n",
       "0       3                              Kelly, Mr. James    male  34.5      0   \n",
       "1       3              Wilkes, Mrs. James (Ellen Needs)  female  47.0      1   \n",
       "2       2                     Myles, Mr. Thomas Francis    male  62.0      0   \n",
       "3       3                              Wirz, Mr. Albert    male  27.0      0   \n",
       "4       3  Hirvonen, Mrs. Alexander (Helga E Lindqvist)  female  22.0      1   \n",
       "\n",
       "   Parch   Ticket     Fare Embarked  \n",
       "0      0   330911   7.8292        Q  \n",
       "1      0   363272   7.0000        S  \n",
       "2      0   240276   9.6875        Q  \n",
       "3      0   315154   8.6625        S  \n",
       "4      1  3101298  12.2875        S  "
      ]
     },
     "execution_count": 55,
     "metadata": {},
     "output_type": "execute_result"
    }
   ],
   "source": [
    "datasetTest.head()"
   ]
  },
  {
   "cell_type": "markdown",
   "id": "21d350b9-ac60-46da-b975-4635b0827833",
   "metadata": {},
   "source": [
    "## Imputación de medias y medianas (Age)"
   ]
  },
  {
   "cell_type": "code",
   "execution_count": 56,
   "id": "b91721e8-932b-4172-90db-32fb23d97f9e",
   "metadata": {},
   "outputs": [
    {
     "data": {
      "text/plain": [
       "<AxesSubplot:ylabel='Density'>"
      ]
     },
     "execution_count": 56,
     "metadata": {},
     "output_type": "execute_result"
    },
    {
     "data": {
      "image/png": "[encoded data removed]",
      "text/plain": [
       "<Figure size 432x288 with 1 Axes>"
      ]
     },
     "metadata": {
      "needs_background": "light"
     },
     "output_type": "display_data"
    }
   ],
   "source": [
    "datasetTest['Age'].plot.density(color=\"red\")"
   ]
  },
  {
   "cell_type": "code",
   "execution_count": 57,
   "id": "04f88ff8-607b-420e-9061-971b43e06cb3",
   "metadata": {},
   "outputs": [
    {
     "data": {
      "text/plain": [
       "(30.0, 27.0)"
      ]
     },
     "execution_count": 57,
     "metadata": {},
     "output_type": "execute_result"
    }
   ],
   "source": [
    "meanValue=np.round(datasetTest['Age'].mean(),0)\n",
    "medianValue=np.round(datasetTest['Age'].median(), 0)\n",
    "meanValue, medianValue"
   ]
  },
  {
   "cell_type": "code",
   "execution_count": 58,
   "id": "396a64a0-489c-4a33-8f3e-05e7b3b03a52",
   "metadata": {},
   "outputs": [],
   "source": [
    "datasetTrain_Age_meanImpo=datasetTest['Age'].fillna(meanValue)\n",
    "datasetTrain_Age_medianImpo=datasetTest['Age'].fillna(medianValue)"
   ]
  },
  {
   "cell_type": "code",
   "execution_count": 59,
   "id": "363cb5f5-1377-4053-ab2e-1708ea11dbfa",
   "metadata": {},
   "outputs": [
    {
     "data": {
      "text/plain": [
       "<AxesSubplot:ylabel='Density'>"
      ]
     },
     "execution_count": 59,
     "metadata": {},
     "output_type": "execute_result"
    },
    {
     "data": {
      "image/png": "[encoded data removed]",
      "text/plain": [
       "<Figure size 432x288 with 1 Axes>"
      ]
     },
     "metadata": {
      "needs_background": "light"
     },
     "output_type": "display_data"
    }
   ],
   "source": [
    "datasetTest['Age'].plot.density(color=\"red\")\n",
    "datasetTrain_Age_meanImpo.plot.density(color=\"green\")\n",
    "datasetTrain_Age_medianImpo.plot.density(color=\"blue\")"
   ]
  },
  {
   "cell_type": "code",
   "execution_count": 60,
   "id": "3ed92f70-0144-447c-b589-e3caa77212ff",
   "metadata": {},
   "outputs": [],
   "source": [
    "datasetTest['Age']=datasetTest['Age'].fillna(medianValue)"
   ]
  },
  {
   "cell_type": "markdown",
   "id": "11bce098-7c73-422c-be52-03d9bc2d6c70",
   "metadata": {},
   "source": [
    "## Imputación de categorias faltantes"
   ]
  },
  {
   "cell_type": "code",
   "execution_count": 61,
   "id": "772ca1c5-3435-44f3-9fe7-84ad4e66fe2e",
   "metadata": {},
   "outputs": [
    {
     "data": {
      "text/plain": [
       "(36.0, 14.0)"
      ]
     },
     "execution_count": 61,
     "metadata": {},
     "output_type": "execute_result"
    }
   ],
   "source": [
    "meanValue=np.round(datasetTest['Fare'].mean(),0)\n",
    "medianValue=np.round(datasetTest['Fare'].median(), 0)\n",
    "meanValue, medianValue"
   ]
  },
  {
   "cell_type": "markdown",
   "id": "2c5878c4-92d1-4c3f-9431-d9b78f52fcef",
   "metadata": {},
   "source": [
    "#### Solo el 0.2% de la columna Fare son NaN así que se botan, pero se necesitan subir los registros completos del test a Kaggle "
   ]
  },
  {
   "cell_type": "code",
   "execution_count": 62,
   "id": "7968c31c-88b0-409a-8337-499ed95c8a7a",
   "metadata": {},
   "outputs": [],
   "source": [
    "datasetTest['Fare']=datasetTest['Fare'].fillna(meanValue)"
   ]
  },
  {
   "cell_type": "markdown",
   "id": "bf123273-b760-4c3b-bb92-c491d9d2d5aa",
   "metadata": {},
   "source": [
    "## Codificación de variables categoricas"
   ]
  },
  {
   "cell_type": "code",
   "execution_count": 63,
   "id": "1b6fda0f-3314-4be5-b7f1-26f3928cc433",
   "metadata": {},
   "outputs": [],
   "source": [
    "datasetTest=datasetTest.drop(['Name'], axis=1)\n",
    "datasetTest=datasetTest.drop(['Ticket'], axis=1)"
   ]
  },
  {
   "cell_type": "code",
   "execution_count": 64,
   "id": "35748d36-7f15-43f4-ac21-2767a0a7d196",
   "metadata": {},
   "outputs": [],
   "source": [
    "def getCategoryVars(df):\n",
    "    colnames=df.columns\n",
    "    cat_cols=[]\n",
    "    for col in colnames:\n",
    "        if(df[col].dtype=='object'):\n",
    "            cat_cols.append(col)\n",
    "    return cat_cols"
   ]
  },
  {
   "cell_type": "code",
   "execution_count": 65,
   "id": "f3ba4c93-932e-4e12-bf61-977969e0e1ac",
   "metadata": {},
   "outputs": [
    {
     "data": {
      "text/plain": [
       "['Sex', 'Embarked']"
      ]
     },
     "execution_count": 65,
     "metadata": {},
     "output_type": "execute_result"
    }
   ],
   "source": [
    "cat_cols=getCategoryVars(datasetTest)\n",
    "cat_cols"
   ]
  },
  {
   "cell_type": "code",
   "execution_count": 66,
   "id": "a6ae3e90-f8a2-4923-9940-cd85da20beac",
   "metadata": {},
   "outputs": [],
   "source": [
    "dataset_categorics=datasetTest[cat_cols]"
   ]
  },
  {
   "cell_type": "markdown",
   "id": "5d873f78-ecfe-4c2c-972c-0f4f99e7278c",
   "metadata": {},
   "source": [
    "### Reemplazando la columna Sex por 0 y 1"
   ]
  },
  {
   "cell_type": "code",
   "execution_count": 67,
   "id": "60c1b0da-4089-4bea-9653-3b4eb3f63966",
   "metadata": {},
   "outputs": [
    {
     "data": {
      "text/plain": [
       "male      266\n",
       "female    152\n",
       "Name: Sex, dtype: int64"
      ]
     },
     "execution_count": 67,
     "metadata": {},
     "output_type": "execute_result"
    }
   ],
   "source": [
    "dataset_categorics['Sex'].value_counts()"
   ]
  },
  {
   "cell_type": "code",
   "execution_count": 68,
   "id": "d77d2aa1-431f-4892-82c1-3ccd7450652a",
   "metadata": {},
   "outputs": [
    {
     "data": {
      "text/html": [
       "<div>\n",
       "<style scoped>\n",
       "    .dataframe tbody tr th:only-of-type {\n",
       "        vertical-align: middle;\n",
       "    }\n",
       "\n",
       "    .dataframe tbody tr th {\n",
       "        vertical-align: top;\n",
       "    }\n",
       "\n",
       "    .dataframe thead th {\n",
       "        text-align: right;\n",
       "    }\n",
       "</style>\n",
       "<table border=\"1\" class=\"dataframe\">\n",
       "  <thead>\n",
       "    <tr style=\"text-align: right;\">\n",
       "      <th></th>\n",
       "      <th>Pclass</th>\n",
       "      <th>Sex</th>\n",
       "      <th>Age</th>\n",
       "      <th>SibSp</th>\n",
       "      <th>Parch</th>\n",
       "      <th>Fare</th>\n",
       "      <th>Embarked</th>\n",
       "    </tr>\n",
       "  </thead>\n",
       "  <tbody>\n",
       "    <tr>\n",
       "      <th>0</th>\n",
       "      <td>3</td>\n",
       "      <td>1</td>\n",
       "      <td>34.5</td>\n",
       "      <td>0</td>\n",
       "      <td>0</td>\n",
       "      <td>7.8292</td>\n",
       "      <td>Q</td>\n",
       "    </tr>\n",
       "    <tr>\n",
       "      <th>1</th>\n",
       "      <td>3</td>\n",
       "      <td>0</td>\n",
       "      <td>47.0</td>\n",
       "      <td>1</td>\n",
       "      <td>0</td>\n",
       "      <td>7.0000</td>\n",
       "      <td>S</td>\n",
       "    </tr>\n",
       "    <tr>\n",
       "      <th>2</th>\n",
       "      <td>2</td>\n",
       "      <td>1</td>\n",
       "      <td>62.0</td>\n",
       "      <td>0</td>\n",
       "      <td>0</td>\n",
       "      <td>9.6875</td>\n",
       "      <td>Q</td>\n",
       "    </tr>\n",
       "    <tr>\n",
       "      <th>3</th>\n",
       "      <td>3</td>\n",
       "      <td>1</td>\n",
       "      <td>27.0</td>\n",
       "      <td>0</td>\n",
       "      <td>0</td>\n",
       "      <td>8.6625</td>\n",
       "      <td>S</td>\n",
       "    </tr>\n",
       "    <tr>\n",
       "      <th>4</th>\n",
       "      <td>3</td>\n",
       "      <td>0</td>\n",
       "      <td>22.0</td>\n",
       "      <td>1</td>\n",
       "      <td>1</td>\n",
       "      <td>12.2875</td>\n",
       "      <td>S</td>\n",
       "    </tr>\n",
       "  </tbody>\n",
       "</table>\n",
       "</div>"
      ],
      "text/plain": [
       "   Pclass Sex   Age  SibSp  Parch     Fare Embarked\n",
       "0       3   1  34.5      0      0   7.8292        Q\n",
       "1       3   0  47.0      1      0   7.0000        S\n",
       "2       2   1  62.0      0      0   9.6875        Q\n",
       "3       3   1  27.0      0      0   8.6625        S\n",
       "4       3   0  22.0      1      1  12.2875        S"
      ]
     },
     "execution_count": 68,
     "metadata": {},
     "output_type": "execute_result"
    }
   ],
   "source": [
    "datasetTest[\"Sex\"]=datasetTest[\"Sex\"].replace(\"female\", 0, regex=True)\n",
    "datasetTest[\"Sex\"]=datasetTest[\"Sex\"].replace(\"male\", 1, regex=True)\n",
    "datasetTest.head()"
   ]
  },
  {
   "cell_type": "markdown",
   "id": "981cd262-b8f7-43d0-92bf-7a0e9607e21c",
   "metadata": {},
   "source": [
    "### Reemplazando la columna Embarked"
   ]
  },
  {
   "cell_type": "code",
   "execution_count": 69,
   "id": "6bea5a73-b637-4ef0-8996-3b57a0b34495",
   "metadata": {},
   "outputs": [
    {
     "data": {
      "text/plain": [
       "S    270\n",
       "C    102\n",
       "Q     46\n",
       "Name: Embarked, dtype: int64"
      ]
     },
     "execution_count": 69,
     "metadata": {},
     "output_type": "execute_result"
    }
   ],
   "source": [
    "dataset_categorics['Embarked'].value_counts()"
   ]
  },
  {
   "cell_type": "code",
   "execution_count": 70,
   "id": "6a429cea-4bea-4d44-96a0-d806c990c425",
   "metadata": {},
   "outputs": [
    {
     "data": {
      "text/html": [
       "<div>\n",
       "<style scoped>\n",
       "    .dataframe tbody tr th:only-of-type {\n",
       "        vertical-align: middle;\n",
       "    }\n",
       "\n",
       "    .dataframe tbody tr th {\n",
       "        vertical-align: top;\n",
       "    }\n",
       "\n",
       "    .dataframe thead th {\n",
       "        text-align: right;\n",
       "    }\n",
       "</style>\n",
       "<table border=\"1\" class=\"dataframe\">\n",
       "  <thead>\n",
       "    <tr style=\"text-align: right;\">\n",
       "      <th></th>\n",
       "      <th>Pclass</th>\n",
       "      <th>Sex</th>\n",
       "      <th>Age</th>\n",
       "      <th>SibSp</th>\n",
       "      <th>Parch</th>\n",
       "      <th>Fare</th>\n",
       "      <th>Embarked</th>\n",
       "    </tr>\n",
       "  </thead>\n",
       "  <tbody>\n",
       "    <tr>\n",
       "      <th>0</th>\n",
       "      <td>3</td>\n",
       "      <td>1</td>\n",
       "      <td>34.5</td>\n",
       "      <td>0</td>\n",
       "      <td>0</td>\n",
       "      <td>7.8292</td>\n",
       "      <td>77</td>\n",
       "    </tr>\n",
       "    <tr>\n",
       "      <th>1</th>\n",
       "      <td>3</td>\n",
       "      <td>0</td>\n",
       "      <td>47.0</td>\n",
       "      <td>1</td>\n",
       "      <td>0</td>\n",
       "      <td>7.0000</td>\n",
       "      <td>644</td>\n",
       "    </tr>\n",
       "    <tr>\n",
       "      <th>2</th>\n",
       "      <td>2</td>\n",
       "      <td>1</td>\n",
       "      <td>62.0</td>\n",
       "      <td>0</td>\n",
       "      <td>0</td>\n",
       "      <td>9.6875</td>\n",
       "      <td>77</td>\n",
       "    </tr>\n",
       "    <tr>\n",
       "      <th>3</th>\n",
       "      <td>3</td>\n",
       "      <td>1</td>\n",
       "      <td>27.0</td>\n",
       "      <td>0</td>\n",
       "      <td>0</td>\n",
       "      <td>8.6625</td>\n",
       "      <td>644</td>\n",
       "    </tr>\n",
       "    <tr>\n",
       "      <th>4</th>\n",
       "      <td>3</td>\n",
       "      <td>0</td>\n",
       "      <td>22.0</td>\n",
       "      <td>1</td>\n",
       "      <td>1</td>\n",
       "      <td>12.2875</td>\n",
       "      <td>644</td>\n",
       "    </tr>\n",
       "  </tbody>\n",
       "</table>\n",
       "</div>"
      ],
      "text/plain": [
       "   Pclass Sex   Age  SibSp  Parch     Fare Embarked\n",
       "0       3   1  34.5      0      0   7.8292       77\n",
       "1       3   0  47.0      1      0   7.0000      644\n",
       "2       2   1  62.0      0      0   9.6875       77\n",
       "3       3   1  27.0      0      0   8.6625      644\n",
       "4       3   0  22.0      1      1  12.2875      644"
      ]
     },
     "execution_count": 70,
     "metadata": {},
     "output_type": "execute_result"
    }
   ],
   "source": [
    "datasetTest[\"Embarked\"]=datasetTest[\"Embarked\"].replace(\"S\", 644, regex=True)\n",
    "datasetTest[\"Embarked\"]=datasetTest[\"Embarked\"].replace(\"C\", 168, regex=True)\n",
    "datasetTest[\"Embarked\"]=datasetTest[\"Embarked\"].replace(\"Q\", 77, regex=True)\n",
    "datasetTest.head()"
   ]
  },
  {
   "cell_type": "markdown",
   "id": "26613129-4985-4e32-8457-1b2ce6c5f005",
   "metadata": {},
   "source": [
    "## Transformación de variables númericas"
   ]
  },
  {
   "cell_type": "code",
   "execution_count": 71,
   "id": "3d34d6b1-438c-4dc8-81db-cdd7d0b7b2fd",
   "metadata": {},
   "outputs": [
    {
     "data": {
      "text/html": [
       "<div>\n",
       "<style scoped>\n",
       "    .dataframe tbody tr th:only-of-type {\n",
       "        vertical-align: middle;\n",
       "    }\n",
       "\n",
       "    .dataframe tbody tr th {\n",
       "        vertical-align: top;\n",
       "    }\n",
       "\n",
       "    .dataframe thead th {\n",
       "        text-align: right;\n",
       "    }\n",
       "</style>\n",
       "<table border=\"1\" class=\"dataframe\">\n",
       "  <thead>\n",
       "    <tr style=\"text-align: right;\">\n",
       "      <th></th>\n",
       "      <th>Pclass</th>\n",
       "      <th>Sex</th>\n",
       "      <th>Age</th>\n",
       "      <th>SibSp</th>\n",
       "      <th>Parch</th>\n",
       "      <th>Fare</th>\n",
       "      <th>Embarked</th>\n",
       "    </tr>\n",
       "  </thead>\n",
       "  <tbody>\n",
       "    <tr>\n",
       "      <th>0</th>\n",
       "      <td>3</td>\n",
       "      <td>1</td>\n",
       "      <td>34.5</td>\n",
       "      <td>0</td>\n",
       "      <td>0</td>\n",
       "      <td>7.8292</td>\n",
       "      <td>77</td>\n",
       "    </tr>\n",
       "    <tr>\n",
       "      <th>1</th>\n",
       "      <td>3</td>\n",
       "      <td>0</td>\n",
       "      <td>47.0</td>\n",
       "      <td>1</td>\n",
       "      <td>0</td>\n",
       "      <td>7.0000</td>\n",
       "      <td>644</td>\n",
       "    </tr>\n",
       "    <tr>\n",
       "      <th>2</th>\n",
       "      <td>2</td>\n",
       "      <td>1</td>\n",
       "      <td>62.0</td>\n",
       "      <td>0</td>\n",
       "      <td>0</td>\n",
       "      <td>9.6875</td>\n",
       "      <td>77</td>\n",
       "    </tr>\n",
       "    <tr>\n",
       "      <th>3</th>\n",
       "      <td>3</td>\n",
       "      <td>1</td>\n",
       "      <td>27.0</td>\n",
       "      <td>0</td>\n",
       "      <td>0</td>\n",
       "      <td>8.6625</td>\n",
       "      <td>644</td>\n",
       "    </tr>\n",
       "    <tr>\n",
       "      <th>4</th>\n",
       "      <td>3</td>\n",
       "      <td>0</td>\n",
       "      <td>22.0</td>\n",
       "      <td>1</td>\n",
       "      <td>1</td>\n",
       "      <td>12.2875</td>\n",
       "      <td>644</td>\n",
       "    </tr>\n",
       "  </tbody>\n",
       "</table>\n",
       "</div>"
      ],
      "text/plain": [
       "   Pclass Sex   Age  SibSp  Parch     Fare Embarked\n",
       "0       3   1  34.5      0      0   7.8292       77\n",
       "1       3   0  47.0      1      0   7.0000      644\n",
       "2       2   1  62.0      0      0   9.6875       77\n",
       "3       3   1  27.0      0      0   8.6625      644\n",
       "4       3   0  22.0      1      1  12.2875      644"
      ]
     },
     "execution_count": 71,
     "metadata": {},
     "output_type": "execute_result"
    }
   ],
   "source": [
    "datasetTest.head()"
   ]
  },
  {
   "cell_type": "code",
   "execution_count": 72,
   "id": "d190ce46-110d-4e89-960a-c0179bb924f1",
   "metadata": {},
   "outputs": [],
   "source": [
    "def getContinuesCols(df):\n",
    "    colnames=df.columns\n",
    "    numeric_continues_vars=[]\n",
    "    for col in colnames:\n",
    "        unique_values=len(df[col].unique())\n",
    "        if((df[col].dtype!=\"object\")and(unique_values>30)):\n",
    "            numeric_continues_vars.append(col)\n",
    "    return numeric_continues_vars"
   ]
  },
  {
   "cell_type": "code",
   "execution_count": 73,
   "id": "f2df93c8-903c-4536-a9d2-238d7986bbe7",
   "metadata": {},
   "outputs": [
    {
     "data": {
      "text/plain": [
       "['Age', 'Fare']"
      ]
     },
     "execution_count": 73,
     "metadata": {},
     "output_type": "execute_result"
    }
   ],
   "source": [
    "numeric_cont_vars=getContinuesCols(datasetTest)\n",
    "numeric_cont_vars"
   ]
  },
  {
   "cell_type": "code",
   "execution_count": 74,
   "id": "3e99e0f8-2711-4090-bae9-ac9189a62da3",
   "metadata": {},
   "outputs": [],
   "source": [
    "def plot_density_variable(df,variable):\n",
    "    plt.figure(figsize=(15,6))\n",
    "    plt.subplot(121)\n",
    "    df[variable].hist(bins=30)\n",
    "    plt.title(variable)\n",
    "    \n",
    "    plt.subplot(122)\n",
    "    stats.probplot(df[variable],dist=\"norm\",plot=plt)\n",
    "    plt.show()"
   ]
  },
  {
   "cell_type": "code",
   "execution_count": 75,
   "id": "59699a98-e303-4353-9c3b-ee2f09a61b69",
   "metadata": {},
   "outputs": [
    {
     "data": {
      "image/png": "[encoded data removed]",
      "text/plain": [
       "<Figure size 1080x432 with 2 Axes>"
      ]
     },
     "metadata": {
      "needs_background": "light"
     },
     "output_type": "display_data"
    },
    {
     "data": {
      "image/png": "[encoded data removed]",
      "text/plain": [
       "<Figure size 1080x432 with 2 Axes>"
      ]
     },
     "metadata": {
      "needs_background": "light"
     },
     "output_type": "display_data"
    }
   ],
   "source": [
    "for col in numeric_cont_vars:\n",
    "    plot_density_variable(datasetTest, col)"
   ]
  },
  {
   "cell_type": "markdown",
   "id": "be1d40fd-4397-4f85-a3cb-c688b2f1d217",
   "metadata": {},
   "source": [
    "### Transformación BoxCox"
   ]
  },
  {
   "cell_type": "code",
   "execution_count": 76,
   "id": "2bb041db-a925-42c9-9420-edfbc33fb2d2",
   "metadata": {},
   "outputs": [],
   "source": [
    "dataset_temp=datasetTest"
   ]
  },
  {
   "cell_type": "markdown",
   "id": "154876cb-b92d-43de-8d91-7cfd8f7256db",
   "metadata": {},
   "source": [
    "#### Age"
   ]
  },
  {
   "cell_type": "code",
   "execution_count": 77,
   "id": "300458a2-5fb3-46bd-8df8-559c1a6e3b54",
   "metadata": {},
   "outputs": [
    {
     "data": {
      "image/png": "[encoded data removed]",
      "text/plain": [
       "<Figure size 1080x432 with 2 Axes>"
      ]
     },
     "metadata": {
      "needs_background": "light"
     },
     "output_type": "display_data"
    }
   ],
   "source": [
    "dataset_temp['Age_BoxCox'], lambdaX=stats.boxcox(dataset_temp['Age'])\n",
    "plot_density_variable(dataset_temp,'Age_BoxCox')"
   ]
  },
  {
   "cell_type": "code",
   "execution_count": 78,
   "id": "2400157d-5ffa-4780-abb2-9532f698fd7d",
   "metadata": {},
   "outputs": [],
   "source": [
    "datasetTest['Age']=dataset_temp['Age_BoxCox']\n",
    "datasetTest=datasetTest.drop(['Age_BoxCox'], axis=1)"
   ]
  },
  {
   "cell_type": "code",
   "execution_count": 79,
   "id": "df97a420-467d-4515-a8c4-05b1cc9caf54",
   "metadata": {},
   "outputs": [
    {
     "data": {
      "text/html": [
       "<div>\n",
       "<style scoped>\n",
       "    .dataframe tbody tr th:only-of-type {\n",
       "        vertical-align: middle;\n",
       "    }\n",
       "\n",
       "    .dataframe tbody tr th {\n",
       "        vertical-align: top;\n",
       "    }\n",
       "\n",
       "    .dataframe thead th {\n",
       "        text-align: right;\n",
       "    }\n",
       "</style>\n",
       "<table border=\"1\" class=\"dataframe\">\n",
       "  <thead>\n",
       "    <tr style=\"text-align: right;\">\n",
       "      <th></th>\n",
       "      <th>Pclass</th>\n",
       "      <th>Sex</th>\n",
       "      <th>Age</th>\n",
       "      <th>SibSp</th>\n",
       "      <th>Parch</th>\n",
       "      <th>Fare</th>\n",
       "      <th>Embarked</th>\n",
       "    </tr>\n",
       "  </thead>\n",
       "  <tbody>\n",
       "    <tr>\n",
       "      <th>0</th>\n",
       "      <td>3</td>\n",
       "      <td>1</td>\n",
       "      <td>17.604619</td>\n",
       "      <td>0</td>\n",
       "      <td>0</td>\n",
       "      <td>7.8292</td>\n",
       "      <td>77</td>\n",
       "    </tr>\n",
       "    <tr>\n",
       "      <th>1</th>\n",
       "      <td>3</td>\n",
       "      <td>0</td>\n",
       "      <td>22.540377</td>\n",
       "      <td>1</td>\n",
       "      <td>0</td>\n",
       "      <td>7.0000</td>\n",
       "      <td>644</td>\n",
       "    </tr>\n",
       "    <tr>\n",
       "      <th>2</th>\n",
       "      <td>2</td>\n",
       "      <td>1</td>\n",
       "      <td>28.045152</td>\n",
       "      <td>0</td>\n",
       "      <td>0</td>\n",
       "      <td>9.6875</td>\n",
       "      <td>77</td>\n",
       "    </tr>\n",
       "    <tr>\n",
       "      <th>3</th>\n",
       "      <td>3</td>\n",
       "      <td>1</td>\n",
       "      <td>14.427779</td>\n",
       "      <td>0</td>\n",
       "      <td>0</td>\n",
       "      <td>8.6625</td>\n",
       "      <td>644</td>\n",
       "    </tr>\n",
       "    <tr>\n",
       "      <th>4</th>\n",
       "      <td>3</td>\n",
       "      <td>0</td>\n",
       "      <td>12.186132</td>\n",
       "      <td>1</td>\n",
       "      <td>1</td>\n",
       "      <td>12.2875</td>\n",
       "      <td>644</td>\n",
       "    </tr>\n",
       "  </tbody>\n",
       "</table>\n",
       "</div>"
      ],
      "text/plain": [
       "   Pclass Sex        Age  SibSp  Parch     Fare Embarked\n",
       "0       3   1  17.604619      0      0   7.8292       77\n",
       "1       3   0  22.540377      1      0   7.0000      644\n",
       "2       2   1  28.045152      0      0   9.6875       77\n",
       "3       3   1  14.427779      0      0   8.6625      644\n",
       "4       3   0  12.186132      1      1  12.2875      644"
      ]
     },
     "execution_count": 79,
     "metadata": {},
     "output_type": "execute_result"
    }
   ],
   "source": [
    "datasetTest.head()"
   ]
  },
  {
   "cell_type": "markdown",
   "id": "82445f98-c638-48a1-925b-110e5749c9df",
   "metadata": {},
   "source": [
    "#### Fare"
   ]
  },
  {
   "cell_type": "code",
   "execution_count": 80,
   "id": "25e77989-3514-449d-9697-3b92e3468d39",
   "metadata": {},
   "outputs": [
    {
     "data": {
      "image/png": "[encoded data removed]",
      "text/plain": [
       "<Figure size 1080x432 with 2 Axes>"
      ]
     },
     "metadata": {
      "needs_background": "light"
     },
     "output_type": "display_data"
    }
   ],
   "source": [
    "dataset_temp['Fare_BoxCox'], lambdaX=stats.yeojohnson(dataset_temp['Fare'])\n",
    "plot_density_variable(dataset_temp,'Fare_BoxCox')"
   ]
  },
  {
   "cell_type": "code",
   "execution_count": 81,
   "id": "746e9c17-8adc-4f51-87f9-1c10aa480128",
   "metadata": {},
   "outputs": [],
   "source": [
    "datasetTest['Fare']=dataset_temp['Fare_BoxCox']"
   ]
  },
  {
   "cell_type": "code",
   "execution_count": 82,
   "id": "8aea1dd2-f861-41ca-b748-10d4f578ce6c",
   "metadata": {},
   "outputs": [
    {
     "data": {
      "text/html": [
       "<div>\n",
       "<style scoped>\n",
       "    .dataframe tbody tr th:only-of-type {\n",
       "        vertical-align: middle;\n",
       "    }\n",
       "\n",
       "    .dataframe tbody tr th {\n",
       "        vertical-align: top;\n",
       "    }\n",
       "\n",
       "    .dataframe thead th {\n",
       "        text-align: right;\n",
       "    }\n",
       "</style>\n",
       "<table border=\"1\" class=\"dataframe\">\n",
       "  <thead>\n",
       "    <tr style=\"text-align: right;\">\n",
       "      <th></th>\n",
       "      <th>Pclass</th>\n",
       "      <th>Sex</th>\n",
       "      <th>Age</th>\n",
       "      <th>SibSp</th>\n",
       "      <th>Parch</th>\n",
       "      <th>Fare</th>\n",
       "      <th>Embarked</th>\n",
       "    </tr>\n",
       "  </thead>\n",
       "  <tbody>\n",
       "    <tr>\n",
       "      <th>0</th>\n",
       "      <td>3</td>\n",
       "      <td>1</td>\n",
       "      <td>17.604619</td>\n",
       "      <td>0</td>\n",
       "      <td>0</td>\n",
       "      <td>1.628573</td>\n",
       "      <td>77</td>\n",
       "    </tr>\n",
       "    <tr>\n",
       "      <th>1</th>\n",
       "      <td>3</td>\n",
       "      <td>0</td>\n",
       "      <td>22.540377</td>\n",
       "      <td>1</td>\n",
       "      <td>0</td>\n",
       "      <td>1.574379</td>\n",
       "      <td>644</td>\n",
       "    </tr>\n",
       "    <tr>\n",
       "      <th>2</th>\n",
       "      <td>2</td>\n",
       "      <td>1</td>\n",
       "      <td>28.045152</td>\n",
       "      <td>0</td>\n",
       "      <td>0</td>\n",
       "      <td>1.729353</td>\n",
       "      <td>77</td>\n",
       "    </tr>\n",
       "    <tr>\n",
       "      <th>3</th>\n",
       "      <td>3</td>\n",
       "      <td>1</td>\n",
       "      <td>14.427779</td>\n",
       "      <td>0</td>\n",
       "      <td>0</td>\n",
       "      <td>1.676832</td>\n",
       "      <td>644</td>\n",
       "    </tr>\n",
       "    <tr>\n",
       "      <th>4</th>\n",
       "      <td>3</td>\n",
       "      <td>0</td>\n",
       "      <td>12.186132</td>\n",
       "      <td>1</td>\n",
       "      <td>1</td>\n",
       "      <td>1.837826</td>\n",
       "      <td>644</td>\n",
       "    </tr>\n",
       "  </tbody>\n",
       "</table>\n",
       "</div>"
      ],
      "text/plain": [
       "   Pclass Sex        Age  SibSp  Parch      Fare Embarked\n",
       "0       3   1  17.604619      0      0  1.628573       77\n",
       "1       3   0  22.540377      1      0  1.574379      644\n",
       "2       2   1  28.045152      0      0  1.729353       77\n",
       "3       3   1  14.427779      0      0  1.676832      644\n",
       "4       3   0  12.186132      1      1  1.837826      644"
      ]
     },
     "execution_count": 82,
     "metadata": {},
     "output_type": "execute_result"
    }
   ],
   "source": [
    "datasetTest.head()"
   ]
  },
  {
   "cell_type": "markdown",
   "id": "ce27e191-70c5-4fda-a8cc-d7877448a837",
   "metadata": {},
   "source": [
    "## Outliers y Capping"
   ]
  },
  {
   "cell_type": "code",
   "execution_count": 83,
   "id": "1a499e40-a991-42eb-874c-105a393bfc55",
   "metadata": {},
   "outputs": [],
   "source": [
    "def inspect_outliers(df,variable):\n",
    "    plt.figure(figsize=(15,6))\n",
    "    \n",
    "    plt.subplot(131)\n",
    "    sns.distplot(df[variable],bins=30)\n",
    "    plt.title(\"Densisd-Histogram: \"+col)\n",
    "    \n",
    "    plt.subplot(132)\n",
    "    stats.probplot(df[variable],dist=\"norm\",plot=plt)\n",
    "    plt.title(\"QQ-Plot:\"+col)\n",
    "    \n",
    "    plt.subplot(133)\n",
    "    sns.boxplot(y=df[variable])\n",
    "    plt.title(\"Boxplot:\"+col)\n",
    "    \n",
    "    plt.show()"
   ]
  },
  {
   "cell_type": "code",
   "execution_count": 84,
   "id": "8cd09ddd-cd91-4637-80d6-9b5957f96ae0",
   "metadata": {},
   "outputs": [
    {
     "name": "stderr",
     "output_type": "stream",
     "text": [
      "C:\\Users\\Usuario\\anaconda3\\lib\\site-packages\\seaborn\\distributions.py:2619: FutureWarning: `distplot` is a deprecated function and will be removed in a future version. Please adapt your code to use either `displot` (a figure-level function with similar flexibility) or `histplot` (an axes-level function for histograms).\n",
      "  warnings.warn(msg, FutureWarning)\n"
     ]
    },
    {
     "data": {
      "image/png": "[encoded data removed]",
      "text/plain": [
       "<Figure size 1080x432 with 3 Axes>"
      ]
     },
     "metadata": {
      "needs_background": "light"
     },
     "output_type": "display_data"
    },
    {
     "name": "stderr",
     "output_type": "stream",
     "text": [
      "C:\\Users\\Usuario\\anaconda3\\lib\\site-packages\\seaborn\\distributions.py:2619: FutureWarning: `distplot` is a deprecated function and will be removed in a future version. Please adapt your code to use either `displot` (a figure-level function with similar flexibility) or `histplot` (an axes-level function for histograms).\n",
      "  warnings.warn(msg, FutureWarning)\n"
     ]
    },
    {
     "data": {
      "image/png": "[encoded data removed]",
      "text/plain": [
       "<Figure size 1080x432 with 3 Axes>"
      ]
     },
     "metadata": {
      "needs_background": "light"
     },
     "output_type": "display_data"
    }
   ],
   "source": [
    "for col in numeric_cont_vars:\n",
    "    inspect_outliers(datasetTest,col)"
   ]
  },
  {
   "cell_type": "code",
   "execution_count": 85,
   "id": "123c5b15-9c68-4ba6-892a-fea9ad967a53",
   "metadata": {},
   "outputs": [],
   "source": [
    "def detect_outliers(df,variable,factor):\n",
    "    IQR=df[variable].quantile(0.75)-df[variable].quantile(0.25)\n",
    "    LI=df[variable].quantile(0.25)-(IQR*factor)\n",
    "    LS=df[variable].quantile(0.75)+(IQR*factor)\n",
    "    return LI,LS"
   ]
  },
  {
   "cell_type": "code",
   "execution_count": 86,
   "id": "ad60ff9d-5378-45a1-bb94-91874abff599",
   "metadata": {},
   "outputs": [
    {
     "name": "stderr",
     "output_type": "stream",
     "text": [
      "C:\\Users\\Usuario\\anaconda3\\lib\\site-packages\\seaborn\\distributions.py:2619: FutureWarning: `distplot` is a deprecated function and will be removed in a future version. Please adapt your code to use either `displot` (a figure-level function with similar flexibility) or `histplot` (an axes-level function for histograms).\n",
      "  warnings.warn(msg, FutureWarning)\n"
     ]
    },
    {
     "data": {
      "image/png": "[encoded data removed]",
      "text/plain": [
       "<Figure size 1080x432 with 3 Axes>"
      ]
     },
     "metadata": {
      "needs_background": "light"
     },
     "output_type": "display_data"
    },
    {
     "name": "stderr",
     "output_type": "stream",
     "text": [
      "C:\\Users\\Usuario\\anaconda3\\lib\\site-packages\\seaborn\\distributions.py:2619: FutureWarning: `distplot` is a deprecated function and will be removed in a future version. Please adapt your code to use either `displot` (a figure-level function with similar flexibility) or `histplot` (an axes-level function for histograms).\n",
      "  warnings.warn(msg, FutureWarning)\n"
     ]
    },
    {
     "data": {
      "image/png": "[encoded data removed]",
      "text/plain": [
       "<Figure size 1080x432 with 3 Axes>"
      ]
     },
     "metadata": {
      "needs_background": "light"
     },
     "output_type": "display_data"
    }
   ],
   "source": [
    "for col in numeric_cont_vars:\n",
    "    limites=detect_outliers(datasetTest,col,1.5)\n",
    "    LF_LI, LF_LS=limites\n",
    "    datasetTest[col]=np.where(datasetTest[col]>LF_LS,LF_LS,\n",
    "                                        np.where(datasetTest[col]<LF_LI,LF_LI, datasetTest[col]))\n",
    "    inspect_outliers(datasetTest,col)"
   ]
  },
  {
   "cell_type": "markdown",
   "id": "5942a8ac-9dcd-4386-b5c4-9832bd0d0315",
   "metadata": {},
   "source": [
    "## Feature Scaling"
   ]
  },
  {
   "cell_type": "code",
   "execution_count": 87,
   "id": "7c402d6e-089a-433c-a78f-2612987f4e8b",
   "metadata": {},
   "outputs": [],
   "source": [
    "#dataset_temp=datasetTest.loc[:,numeric_cont_vars]"
   ]
  },
  {
   "cell_type": "code",
   "execution_count": 88,
   "id": "4d4c7e87-455a-4706-a8b5-2925a09d48a3",
   "metadata": {},
   "outputs": [],
   "source": [
    "#scaler=StandardScaler()\n",
    "#scaler.fit(dataset_temp) "
   ]
  },
  {
   "cell_type": "code",
   "execution_count": 89,
   "id": "669a7ed9-b519-4d05-a4cd-3a44c40bd624",
   "metadata": {},
   "outputs": [],
   "source": [
    "#dataset_temp_scaled=pd.DataFrame(scaler.transform(dataset_temp),columns=dataset_temp.columns)"
   ]
  },
  {
   "cell_type": "code",
   "execution_count": 90,
   "id": "bdea71b6-3727-43ce-82ae-e362ae383c65",
   "metadata": {},
   "outputs": [],
   "source": [
    "#np.round(dataset_temp_scaled.describe(),2)"
   ]
  },
  {
   "cell_type": "code",
   "execution_count": 91,
   "id": "9ef3f44a-3e32-4527-8bdd-4de4edd9170c",
   "metadata": {},
   "outputs": [],
   "source": [
    "#datasetTest.loc[:,numeric_cont_vars]=dataset_temp_scaled"
   ]
  },
  {
   "cell_type": "code",
   "execution_count": 93,
   "id": "b1a06258-a365-40b1-9be3-5aa1d73b7b6d",
   "metadata": {},
   "outputs": [
    {
     "data": {
      "text/html": [
       "<div>\n",
       "<style scoped>\n",
       "    .dataframe tbody tr th:only-of-type {\n",
       "        vertical-align: middle;\n",
       "    }\n",
       "\n",
       "    .dataframe tbody tr th {\n",
       "        vertical-align: top;\n",
       "    }\n",
       "\n",
       "    .dataframe thead th {\n",
       "        text-align: right;\n",
       "    }\n",
       "</style>\n",
       "<table border=\"1\" class=\"dataframe\">\n",
       "  <thead>\n",
       "    <tr style=\"text-align: right;\">\n",
       "      <th></th>\n",
       "      <th>Pclass</th>\n",
       "      <th>Sex</th>\n",
       "      <th>Age</th>\n",
       "      <th>SibSp</th>\n",
       "      <th>Parch</th>\n",
       "      <th>Fare</th>\n",
       "      <th>Embarked</th>\n",
       "    </tr>\n",
       "  </thead>\n",
       "  <tbody>\n",
       "    <tr>\n",
       "      <th>0</th>\n",
       "      <td>3</td>\n",
       "      <td>1</td>\n",
       "      <td>17.604619</td>\n",
       "      <td>0</td>\n",
       "      <td>0</td>\n",
       "      <td>1.628573</td>\n",
       "      <td>77</td>\n",
       "    </tr>\n",
       "    <tr>\n",
       "      <th>1</th>\n",
       "      <td>3</td>\n",
       "      <td>0</td>\n",
       "      <td>22.540377</td>\n",
       "      <td>1</td>\n",
       "      <td>0</td>\n",
       "      <td>1.574379</td>\n",
       "      <td>644</td>\n",
       "    </tr>\n",
       "    <tr>\n",
       "      <th>2</th>\n",
       "      <td>2</td>\n",
       "      <td>1</td>\n",
       "      <td>26.324252</td>\n",
       "      <td>0</td>\n",
       "      <td>0</td>\n",
       "      <td>1.729353</td>\n",
       "      <td>77</td>\n",
       "    </tr>\n",
       "    <tr>\n",
       "      <th>3</th>\n",
       "      <td>3</td>\n",
       "      <td>1</td>\n",
       "      <td>14.427779</td>\n",
       "      <td>0</td>\n",
       "      <td>0</td>\n",
       "      <td>1.676832</td>\n",
       "      <td>644</td>\n",
       "    </tr>\n",
       "    <tr>\n",
       "      <th>4</th>\n",
       "      <td>3</td>\n",
       "      <td>0</td>\n",
       "      <td>12.186132</td>\n",
       "      <td>1</td>\n",
       "      <td>1</td>\n",
       "      <td>1.837826</td>\n",
       "      <td>644</td>\n",
       "    </tr>\n",
       "  </tbody>\n",
       "</table>\n",
       "</div>"
      ],
      "text/plain": [
       "   Pclass Sex        Age  SibSp  Parch      Fare Embarked\n",
       "0       3   1  17.604619      0      0  1.628573       77\n",
       "1       3   0  22.540377      1      0  1.574379      644\n",
       "2       2   1  26.324252      0      0  1.729353       77\n",
       "3       3   1  14.427779      0      0  1.676832      644\n",
       "4       3   0  12.186132      1      1  1.837826      644"
      ]
     },
     "execution_count": 93,
     "metadata": {},
     "output_type": "execute_result"
    }
   ],
   "source": [
    "datasetTest.head()"
   ]
  },
  {
   "cell_type": "code",
   "execution_count": 95,
   "id": "2d43cca9-83a1-49bb-a914-e2927924e79d",
   "metadata": {},
   "outputs": [],
   "source": [
    "datasetTest.to_csv(r'FE_Test.csv', index=False)"
   ]
  },
  {
   "cell_type": "code",
   "execution_count": null,
   "id": "c97d73cd-991e-4859-a4ea-1b69b49ba97d",
   "metadata": {},
   "outputs": [],
   "source": []
  }
 ],
 "metadata": {
  "kernelspec": {
   "display_name": "Python 3 (ipykernel)",
   "language": "python",
   "name": "python3"
  },
  "language_info": {
   "codemirror_mode": {
    "name": "ipython",
    "version": 3
   },
   "file_extension": ".py",
   "mimetype": "text/x-python",
   "name": "python",
   "nbconvert_exporter": "python",
   "pygments_lexer": "ipython3",
   "version": "3.9.7"
  }
 },
 "nbformat": 4,
 "nbformat_minor": 5
}
